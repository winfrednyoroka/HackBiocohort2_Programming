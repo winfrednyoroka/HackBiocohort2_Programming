{
 "cells": [
  {
   "cell_type": "markdown",
   "metadata": {},
   "source": [
    "# Working with strings\n",
    "\n",
    "## The Print Statement"
   ]
  },
  {
   "cell_type": "markdown",
   "metadata": {},
   "source": [
    "As seen previously, The **print()** function prints all of its arguments as strings, separated by spaces and follows by a linebreak:\n",
    "\n",
    "    - print(\"Hello World\")\n",
    "    - print(\"Hello\",'World')\n",
    "    - print(\"Hello\", <Variable Containing the String>)\n",
    "\n",
    "Note that **print** is different in old versions of Python (2.7) where it was a statement and did not need parenthesis around its arguments."
   ]
  },
  {
   "cell_type": "code",
   "execution_count": 1,
   "metadata": {},
   "outputs": [
    {
     "name": "stdout",
     "output_type": "stream",
     "text": [
      "Hello World\n"
     ]
    }
   ],
   "source": [
    "print(\"Hello\",\"World\")"
   ]
  },
  {
   "cell_type": "markdown",
   "metadata": {},
   "source": [
    "The print has some optional arguments to control where and how to print. This includes `sep` the separator (default space) and `end` (end charcter) and `file` to write to a file."
   ]
  },
  {
   "cell_type": "code",
   "execution_count": 1,
   "metadata": {},
   "outputs": [],
   "source": [
    "dna=\"ACGTATA\""
   ]
  },
  {
   "cell_type": "code",
   "execution_count": 2,
   "metadata": {},
   "outputs": [
    {
     "data": {
      "text/plain": [
       "\u001b[0;31mDocstring:\u001b[0m\n",
       "S.count(sub[, start[, end]]) -> int\n",
       "\n",
       "Return the number of non-overlapping occurrences of substring sub in\n",
       "string S[start:end].  Optional arguments start and end are\n",
       "interpreted as in slice notation.\n",
       "\u001b[0;31mType:\u001b[0m      builtin_function_or_method\n"
      ]
     },
     "metadata": {},
     "output_type": "display_data"
    }
   ],
   "source": [
    "?dna.count()"
   ]
  },
  {
   "cell_type": "code",
   "execution_count": 2,
   "metadata": {},
   "outputs": [
    {
     "name": "stdout",
     "output_type": "stream",
     "text": [
      "Hello...World!!"
     ]
    }
   ],
   "source": [
    "print(\"Hello\",\"World\",sep='...',end='!!')"
   ]
  },
  {
   "cell_type": "markdown",
   "metadata": {},
   "source": [
    "You can find the additional arguments, and help on usage of print, and any other function, by appending a ? before it. "
   ]
  },
  {
   "cell_type": "code",
   "execution_count": 3,
   "metadata": {},
   "outputs": [
    {
     "data": {
      "text/plain": [
       "\u001b[0;31mDocstring:\u001b[0m\n",
       "print(value, ..., sep=' ', end='\\n', file=sys.stdout, flush=False)\n",
       "\n",
       "Prints the values to a stream, or to sys.stdout by default.\n",
       "Optional keyword arguments:\n",
       "file:  a file-like object (stream); defaults to the current sys.stdout.\n",
       "sep:   string inserted between values, default a space.\n",
       "end:   string appended after the last value, default a newline.\n",
       "flush: whether to forcibly flush the stream.\n",
       "\u001b[0;31mType:\u001b[0m      builtin_function_or_method\n"
      ]
     },
     "metadata": {},
     "output_type": "display_data"
    }
   ],
   "source": [
    "?print()"
   ]
  },
  {
   "cell_type": "markdown",
   "metadata": {},
   "source": [
    "## String Formatting\n",
    "\n",
    "There are lots of methods for formatting and manipulating strings built into python. Some of these are illustrated here.\n",
    "\n",
    "String concatenation is the \"addition\" of two strings. Observe that while concatenating there will be no space between the strings."
   ]
  },
  {
   "cell_type": "code",
   "execution_count": 9,
   "metadata": {},
   "outputs": [
    {
     "name": "stdout",
     "output_type": "stream",
     "text": [
      "Hello World!267.0\n"
     ]
    }
   ],
   "source": [
    "string1='World'\n",
    "string2='!'\n",
    "print('Hello' + \" \"+ string1 + string2 + str(267.00))"
   ]
  },
  {
   "cell_type": "markdown",
   "metadata": {},
   "source": [
    "The **%** operator is used to format a string inserting the value that comes after. It relies on the string containing a format specifier that identifies where to insert the value. The most common types of format specifiers are:\n",
    "\n",
    "    - %s -> string\n",
    "    - %d -> Integer\n",
    "    - %f -> Float\n",
    "    - %o -> Octal\n",
    "    - %x -> Hexadecimal\n",
    "    - %e -> exponential"
   ]
  },
  {
   "cell_type": "code",
   "execution_count": 15,
   "metadata": {},
   "outputs": [
    {
     "name": "stdout",
     "output_type": "stream",
     "text": [
      "Hello World\n",
      "Actual Number = 18\n",
      "Float of the number = 18.877\n",
      "Exponential equivalent of the number = 1.800000e+01\n"
     ]
    }
   ],
   "source": [
    "print(\"Hello %s\" % string1)\n",
    "print(\"Actual Number = %d\" %18)\n",
    "print(\"Float of the number = %.3f\" % 18.87687)\n",
    "print(\"Exponential equivalent of the number = %e\" %18)"
   ]
  },
  {
   "cell_type": "markdown",
   "metadata": {},
   "source": [
    "When referring to multiple variables parenthesis is used. Values are inserted in the order they appear in the paranthesis (more on tuples in the next lecture)"
   ]
  },
  {
   "cell_type": "code",
   "execution_count": 6,
   "metadata": {},
   "outputs": [
    {
     "name": "stdout",
     "output_type": "stream",
     "text": [
      "Hello World !. This meaning of life is 42\n"
     ]
    }
   ],
   "source": [
    "print(\"Hello %s %s. This meaning of life is %d\" %(string1,string2,42))"
   ]
  },
  {
   "cell_type": "markdown",
   "metadata": {},
   "source": [
    "We can also specify the width of the field and the number of decimal places to be used. For example:"
   ]
  },
  {
   "cell_type": "code",
   "execution_count": 20,
   "metadata": {},
   "outputs": [
    {
     "name": "stdout",
     "output_type": "stream",
     "text": [
      "Print width 10: |        my|\n",
      "Print width 10: |      name|\n",
      "The number pi = 3.14 to 2 decimal places\n",
      "More space pi =       3.14\n",
      "Pad pi with 0 = 0000003.14\n"
     ]
    }
   ],
   "source": [
    "print('Print width 10: |%10s|'%'my')\n",
    "print('Print width 10: |%10s|'%'name') # left justified\n",
    "print(\"The number pi = %.2f to 2 decimal places\"%3.1415)\n",
    "print(\"More space pi = %10.2f\"%3.1415)\n",
    "print(\"Pad pi with 0 = %010.2f\"%3.1415) # pad with zeros"
   ]
  },
  {
   "cell_type": "markdown",
   "metadata": {},
   "source": [
    "## Other String Methods"
   ]
  },
  {
   "cell_type": "markdown",
   "metadata": {},
   "source": [
    "Multiplying a string by an integer simply repeats it"
   ]
  },
  {
   "cell_type": "code",
   "execution_count": 8,
   "metadata": {},
   "outputs": [
    {
     "name": "stdout",
     "output_type": "stream",
     "text": [
      "Hello World! Hello World! Hello World! Hello World! Hello World! \n"
     ]
    }
   ],
   "source": [
    "print(\"Hello World! \"*5)"
   ]
  },
  {
   "cell_type": "markdown",
   "metadata": {},
   "source": [
    "Strings can be tranformed by a variety of functions:\n",
    "\n",
    "Let's get back to our trna example. "
   ]
  },
  {
   "cell_type": "code",
   "execution_count": 9,
   "metadata": {},
   "outputs": [
    {
     "name": "stdout",
     "output_type": "stream",
     "text": [
      "Hello world\n",
      "HELLO WORLD\n",
      "hello world\n",
      "|         Hello World          |\n",
      "|lots of space|\n",
      "Hello Class\n"
     ]
    }
   ],
   "source": [
    "s=\"hello wOrld\"\n",
    "print(s.capitalize())\n",
    "print(s.upper())\n",
    "print(s.lower())\n",
    "print('|%s|' % \"Hello World\".center(30)) # center in 30 characters\n",
    "print('|%s|'% \"     lots of space             \".strip()) # remove leading and trailing whitespace\n",
    "print(\"Hello World\".replace(\"World\",\"Class\"))"
   ]
  },
  {
   "cell_type": "markdown",
   "metadata": {},
   "source": [
    "There are also lots of ways to inspect or check strings. Examples of a few of these are given here:"
   ]
  },
  {
   "cell_type": "raw",
   "metadata": {},
   "source": [
    "help(str)"
   ]
  },
  {
   "cell_type": "code",
   "execution_count": 22,
   "metadata": {},
   "outputs": [
    {
     "name": "stdout",
     "output_type": "stream",
     "text": [
      "The length of the sequence is 69 nucleotides\n",
      "There are 21 'G's but only 9 C's in the sequence\n",
      "The \"ATTAA\" motif is at index 14\n"
     ]
    }
   ],
   "source": [
    "trna='AAGGGCTTAGCTTAATTAAAGTGGCTGATTTGCGTTCAGTTGATGCAGAGTGGGGTTTTGCAGTCCTTA'\n",
    "print(\"The length of the sequence is %i\" % len(trna),\"nucleotides\") # len() gives length\n",
    "\n",
    "#count strings\n",
    "print(\"There are %d 'G's but only %d C's in the sequence\" % (trna.count('G'),trna.count('C')))\n",
    "print('The \"ATTAA\" motif is at index',trna.find('ATTAA')) #index from 0 or -1"
   ]
  },
  {
   "cell_type": "markdown",
   "metadata": {},
   "source": [
    "### Exercise\n",
    "\n",
    "Calculate the % GC and % AT content in the trna sequence"
   ]
  },
  {
   "cell_type": "code",
   "execution_count": 11,
   "metadata": {},
   "outputs": [],
   "source": [
    "A_count=trna.count('A')\n",
    "C_count=trna.count('C')\n",
    "G_count=trna.count('G')\n",
    "T_count=trna.count('T')"
   ]
  },
  {
   "cell_type": "markdown",
   "metadata": {},
   "source": [
    "## String comparison operations\n",
    "Strings can be compared in lexicographical order with the usual comparisons. In addition the `in` operator checks for substrings:"
   ]
  },
  {
   "cell_type": "code",
   "execution_count": 12,
   "metadata": {},
   "outputs": [
    {
     "data": {
      "text/plain": [
       "True"
      ]
     },
     "execution_count": 12,
     "metadata": {},
     "output_type": "execute_result"
    }
   ],
   "source": [
    "'abc' < 'bbc' <= 'bbc'"
   ]
  },
  {
   "cell_type": "code",
   "execution_count": 13,
   "metadata": {},
   "outputs": [
    {
     "data": {
      "text/plain": [
       "True"
      ]
     },
     "execution_count": 13,
     "metadata": {},
     "output_type": "execute_result"
    }
   ],
   "source": [
    "\"ABC\" in \"This is the ABC of Python\""
   ]
  },
  {
   "cell_type": "markdown",
   "metadata": {},
   "source": [
    "## Accessing parts of strings"
   ]
  },
  {
   "cell_type": "markdown",
   "metadata": {},
   "source": [
    "Strings can be indexed with square brackets. Indexing starts from zero in Python. "
   ]
  },
  {
   "cell_type": "code",
   "execution_count": 14,
   "metadata": {},
   "outputs": [
    {
     "name": "stdout",
     "output_type": "stream",
     "text": [
      "First nucleotide of the sequence is A\n",
      "Last nucleotide of the sequence is T\n"
     ]
    }
   ],
   "source": [
    "s = 'AAGGGCTTAGCTTAATTAAAGTGGCTGATTTGCGTTCAGTTGATGCAGAGTGGGGTTTTGCAGTCCTT'\n",
    "print('First nucleotide of the sequence is',s[0])\n",
    "print('Last nucleotide of the sequence is',s[len(s)-1])"
   ]
  },
  {
   "cell_type": "markdown",
   "metadata": {},
   "source": [
    "Negative indices can be used to start counting from the back"
   ]
  },
  {
   "cell_type": "code",
   "execution_count": 15,
   "metadata": {},
   "outputs": [
    {
     "name": "stdout",
     "output_type": "stream",
     "text": [
      "First nucleotide of the sequence is A\n",
      "Last nucleotide of the sequence is T\n"
     ]
    }
   ],
   "source": [
    "print('First nucleotide of the sequence is',s[-len(s)])\n",
    "print('Last nucleotide of the sequence is',s[-1])"
   ]
  },
  {
   "cell_type": "markdown",
   "metadata": {},
   "source": [
    "#### Slicing\n",
    "Finally a substring (range of characters) can be specified as using $a:b$ to specify the characters at index $a,a+1,\\ldots,b-1$. Note that the last charcter is *not* included. Now we can find the first codon in the sequence:"
   ]
  },
  {
   "cell_type": "code",
   "execution_count": 16,
   "metadata": {},
   "outputs": [
    {
     "name": "stdout",
     "output_type": "stream",
     "text": [
      "First codon in the sequence is AAG\n",
      "The secodn codon in the sequence is GGC\n"
     ]
    }
   ],
   "source": [
    "print(\"First codon in the sequence is\",s[0:3])\n",
    "print(\"The secodn codon in the sequence is\",s[3:6])"
   ]
  },
  {
   "cell_type": "markdown",
   "metadata": {},
   "source": [
    "An empty beginning and end of the range denotes the beginning/end of the string:"
   ]
  },
  {
   "cell_type": "code",
   "execution_count": 17,
   "metadata": {},
   "outputs": [
    {
     "name": "stdout",
     "output_type": "stream",
     "text": [
      "First codon in the sequence is AAG\n",
      "Last codon in the sequence is CTT\n"
     ]
    }
   ],
   "source": [
    "print(\"First codon in the sequence is\", s[:3])\n",
    "print(\"Last codon in the sequence is\", s[-3:])"
   ]
  },
  {
   "cell_type": "markdown",
   "metadata": {},
   "source": [
    "A colon without an index, returns the whole string. "
   ]
  },
  {
   "cell_type": "code",
   "execution_count": 18,
   "metadata": {},
   "outputs": [
    {
     "data": {
      "text/plain": [
       "'AAGGGCTTAGCTTAATTAAAGTGGCTGATTTGCGTTCAGTTGATGCAGAGTGGGGTTTTGCAGTCCTT'"
      ]
     },
     "execution_count": 18,
     "metadata": {},
     "output_type": "execute_result"
    }
   ],
   "source": [
    "s[:]"
   ]
  },
  {
   "cell_type": "markdown",
   "metadata": {},
   "source": [
    "## Strings are immutable\n",
    "\n",
    "It is important that strings are constant, immutable values in Python. While new strings can easily be created it is not possible to modify a string:"
   ]
  },
  {
   "cell_type": "code",
   "execution_count": 19,
   "metadata": {},
   "outputs": [
    {
     "name": "stdout",
     "output_type": "stream",
     "text": [
      "creating new string 01X345 OK\n",
      "01X345 still OK\n"
     ]
    },
    {
     "ename": "TypeError",
     "evalue": "'str' object does not support item assignment",
     "output_type": "error",
     "traceback": [
      "\u001b[0;31m---------------------------------------------------------------------------\u001b[0m",
      "\u001b[0;31mTypeError\u001b[0m                                 Traceback (most recent call last)",
      "\u001b[0;32m<ipython-input-19-93bf77b20e7d>\u001b[0m in \u001b[0;36m<module>\u001b[0;34m()\u001b[0m\n\u001b[1;32m      4\u001b[0m \u001b[0msX\u001b[0m\u001b[0;34m=\u001b[0m\u001b[0ms\u001b[0m\u001b[0;34m.\u001b[0m\u001b[0mreplace\u001b[0m\u001b[0;34m(\u001b[0m\u001b[0;34m'2'\u001b[0m\u001b[0;34m,\u001b[0m\u001b[0;34m'X'\u001b[0m\u001b[0;34m)\u001b[0m \u001b[0;31m# the same thing\u001b[0m\u001b[0;34m\u001b[0m\u001b[0m\n\u001b[1;32m      5\u001b[0m \u001b[0mprint\u001b[0m\u001b[0;34m(\u001b[0m\u001b[0msX\u001b[0m\u001b[0;34m,\u001b[0m\u001b[0;34m\"still OK\"\u001b[0m\u001b[0;34m)\u001b[0m\u001b[0;34m\u001b[0m\u001b[0m\n\u001b[0;32m----> 6\u001b[0;31m \u001b[0ms\u001b[0m\u001b[0;34m[\u001b[0m\u001b[0;36m2\u001b[0m\u001b[0;34m]\u001b[0m \u001b[0;34m=\u001b[0m \u001b[0;34m'X'\u001b[0m \u001b[0;31m# an error!!!\u001b[0m\u001b[0;34m\u001b[0m\u001b[0m\n\u001b[0m",
      "\u001b[0;31mTypeError\u001b[0m: 'str' object does not support item assignment"
     ]
    }
   ],
   "source": [
    "s='012345'\n",
    "sX=s[:2]+'X'+s[3:] # this creates a new string with 2 replaced by X\n",
    "print(\"creating new string\",sX,\"OK\")\n",
    "sX=s.replace('2','X') # the same thing\n",
    "print(sX,\"still OK\")\n",
    "s[2] = 'X' # an error!!!"
   ]
  },
  {
   "cell_type": "markdown",
   "metadata": {},
   "source": [
    "### Exercise:\n",
    "\n",
    "1. Given the following amino acid sequence (MNKMDLVADVAEKTDLSKAKATEVIDAVFA), find the first, last and the 5th amino acids in the sequence. \n",
    "2. The above amino acid is a bacterial restriction enzyme that recognizes \"TCCGGA\". Find the first restriction site in the following sequence: AAAAATCCCGAGGCGGCTATATAGGGCTCCGGAGGCGTAATATAAAA"
   ]
  },
  {
   "cell_type": "code",
   "execution_count": null,
   "metadata": {},
   "outputs": [],
   "source": []
  }
 ],
 "metadata": {
  "kernelspec": {
   "display_name": "Python 3",
   "language": "python",
   "name": "python3"
  },
  "language_info": {
   "codemirror_mode": {
    "name": "ipython",
    "version": 3
   },
   "file_extension": ".py",
   "mimetype": "text/x-python",
   "name": "python",
   "nbconvert_exporter": "python",
   "pygments_lexer": "ipython3",
   "version": "3.8.5"
  }
 },
 "nbformat": 4,
 "nbformat_minor": 4
}
