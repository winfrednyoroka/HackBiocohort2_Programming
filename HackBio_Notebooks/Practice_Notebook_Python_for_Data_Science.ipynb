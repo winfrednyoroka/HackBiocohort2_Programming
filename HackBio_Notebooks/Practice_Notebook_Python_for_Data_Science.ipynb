{
 "cells": [
  {
   "cell_type": "markdown",
   "metadata": {
    "id": "O1ZGC3xPs0Ta"
   },
   "source": [
    "<font color=\"blue\">To use this notebook on Colaboratory, you will need to make a copy of it. Go to File > Save a Copy in Drive. You can then use the new copy that will appear in the new tab.</font>\n"
   ]
  },
  {
   "cell_type": "markdown",
   "metadata": {
    "id": "jD-9Sma-ruMm"
   },
   "source": [
    "# 1. Comments, Variables and Printing"
   ]
  },
  {
   "cell_type": "markdown",
   "metadata": {
    "id": "1KGAN1h-rhUT"
   },
   "source": [
    "## 1. Comments"
   ]
  },
  {
   "cell_type": "markdown",
   "metadata": {
    "id": "6mfDGqy38176"
   },
   "source": [
    "#### <font color=\"blue\">Examples</font>"
   ]
  },
  {
   "cell_type": "markdown",
   "metadata": {
    "id": "BDggmS7ur3Wg"
   },
   "source": [
    "##### <font color=\"blue\">Example 1:</font> Single Line Comments"
   ]
  },
  {
   "cell_type": "code",
   "execution_count": null,
   "metadata": {
    "id": "Chy3pmP9r9Ch"
   },
   "outputs": [],
   "source": [
    "# This is a single line comment. We use the hash character to indicate the following single line content are comments.\n",
    "score = 56 "
   ]
  },
  {
   "cell_type": "markdown",
   "metadata": {
    "id": "Am56-sCnr6vi"
   },
   "source": [
    "##### <font color=\"blue\">Example 2:</font> Multiple Line Comments - Method 1"
   ]
  },
  {
   "cell_type": "code",
   "execution_count": null,
   "metadata": {
    "id": "i4mALMPGr2Ad"
   },
   "outputs": [],
   "source": [
    "'''\n",
    "This is a multiline comment. \n",
    "We use the delimiter characters to indicate that \n",
    "the following multi line content are comments.\n",
    "'''\n",
    "score = 53"
   ]
  },
  {
   "cell_type": "markdown",
   "metadata": {
    "id": "5enr7YOCsGiO"
   },
   "source": [
    "##### <font color=\"blue\">Example 3:</font> Multiple Line Comments - Method 2"
   ]
  },
  {
   "cell_type": "code",
   "execution_count": null,
   "metadata": {
    "id": "jLWLFxn5sVnD"
   },
   "outputs": [],
   "source": [
    "# ---\n",
    "# This is a multiline comment. \n",
    "# We can also use multiple hash characters to comment on \n",
    "# a block of content just as shown in this example.\n",
    "# We will be using this method of commenting to \n",
    "# provide more information about the exercises \n",
    "# and challenges within this course.\n",
    "# ---\n",
    "\n",
    "score = 53"
   ]
  },
  {
   "cell_type": "markdown",
   "metadata": {
    "id": "czwZIoMP8yq2"
   },
   "source": [
    "#### <font color=\"green\">Challenges</font> "
   ]
  },
  {
   "cell_type": "markdown",
   "metadata": {
    "id": "UVhxQgFF8KI_"
   },
   "source": [
    "##### <font color=\"green\">Challenge 1:</font> Explain the following code using a single line comment."
   ]
  },
  {
   "cell_type": "code",
   "execution_count": null,
   "metadata": {
    "id": "EXZ0jzkw8N3Z"
   },
   "outputs": [],
   "source": [
    "# The following line has the code tree = 5\n",
    "tree = 5"
   ]
  },
  {
   "cell_type": "markdown",
   "metadata": {
    "id": "vRf4lpd38TE8"
   },
   "source": [
    "##### <font color=\"green\">Challenge 2:</font> Explain the following code using multiple line comments (using delimiters)"
   ]
  },
  {
   "cell_type": "code",
   "execution_count": null,
   "metadata": {
    "id": "C4eWE7xS8U9m"
   },
   "outputs": [],
   "source": [
    "\n",
    "tree = 5 + 4 "
   ]
  },
  {
   "cell_type": "markdown",
   "metadata": {
    "id": "dbS8kM4M8Vga"
   },
   "source": [
    "##### <font color=\"green\">Challenge 3: </font> Explain the following code using multiple line comments (Using Single line comments)"
   ]
  },
  {
   "cell_type": "code",
   "execution_count": null,
   "metadata": {
    "id": "Zefh_ZEV8Wzk"
   },
   "outputs": [],
   "source": [
    "tree = 5 + 5"
   ]
  },
  {
   "cell_type": "markdown",
   "metadata": {
    "id": "DJeVFrBtw_kA"
   },
   "source": [
    "## 2. Variables"
   ]
  },
  {
   "cell_type": "markdown",
   "metadata": {
    "id": "wp_BS7DmxDcu"
   },
   "source": [
    "#### <font color=\"blue\">Examples</font>"
   ]
  },
  {
   "cell_type": "markdown",
   "metadata": {
    "id": "aFlF1bDQxHQO"
   },
   "source": [
    "##### <font color=\"blue\">Example 1</font>"
   ]
  },
  {
   "cell_type": "code",
   "execution_count": null,
   "metadata": {
    "id": "XPERUCVo5aTx"
   },
   "outputs": [],
   "source": [
    "# Example 1\n",
    "# ---\n",
    "# Question: Assign the value 10 to the variable a.\n",
    "# ---\n",
    "# OUR CODE GOES BELOW\n",
    "#\n",
    "\n",
    "a = 10\n",
    "\n",
    "\n",
    "name = \"Valentine\""
   ]
  },
  {
   "cell_type": "markdown",
   "metadata": {
    "id": "_Czt2xj3xKtQ"
   },
   "source": [
    "##### <font color=\"blue\">Example 2</font> "
   ]
  },
  {
   "cell_type": "code",
   "execution_count": null,
   "metadata": {
    "id": "u6IDQwRc5bWn"
   },
   "outputs": [],
   "source": [
    "# Example 2\n",
    "# ---\n",
    "# Question: Assign the name Susan to the variable name.\n",
    "# ---\n",
    "# OUR CODE GOES BELOW\n",
    "#\n",
    "\n",
    "sister, brother = \"Susan\", \"Paul\""
   ]
  },
  {
   "cell_type": "markdown",
   "metadata": {
    "id": "apQZLg4WxQaT"
   },
   "source": [
    "##### <font color=\"blue\">Example 3</font> "
   ]
  },
  {
   "cell_type": "code",
   "execution_count": null,
   "metadata": {
    "id": "pO96_Ivb5cHT"
   },
   "outputs": [],
   "source": [
    "# Example 3\n",
    "# ---\n",
    "# Question: Assign the value [\"one\", 2, [\"three\"]] to the variable numbers\n",
    "# ---\n",
    "# OUR CODE GOES BELOW\n",
    "#\n",
    "\n",
    "numbers = [\"one\", 2, [\"three\"]] "
   ]
  },
  {
   "cell_type": "markdown",
   "metadata": {
    "id": "5Kk6d63OxVQo"
   },
   "source": [
    "#### <font color=\"green\">Challenges</font> "
   ]
  },
  {
   "cell_type": "markdown",
   "metadata": {
    "id": "figZW-P0xWHu"
   },
   "source": [
    "##### <font color=\"green\">Challenge 1</font>"
   ]
  },
  {
   "cell_type": "code",
   "execution_count": null,
   "metadata": {
    "id": "9mCpedG0xcfs"
   },
   "outputs": [],
   "source": [
    "# Challenge 1\n",
    "# ---\n",
    "# Question: Assign the your last name to the variable last_name.\n",
    "# ---\n",
    "# YOUR CODE GOES BELOW\n",
    "#\n"
   ]
  },
  {
   "cell_type": "markdown",
   "metadata": {
    "id": "QhEXtwvIxZhP"
   },
   "source": [
    "##### <font color=\"green\">Challenge 2</font>"
   ]
  },
  {
   "cell_type": "code",
   "execution_count": null,
   "metadata": {
    "id": "SRG0iMPQxdHT"
   },
   "outputs": [],
   "source": [
    "# Challenge 2\n",
    "# ---\n",
    "# Question: Assign your final highschool grade to the variable highschool_grade.\n",
    "# ---\n",
    "# YOUR CODE GOES BELOW\n",
    "#\n"
   ]
  },
  {
   "cell_type": "markdown",
   "metadata": {
    "id": "prYpRrXsxbRX"
   },
   "source": [
    "##### <font color=\"green\">Challenge 3</font>"
   ]
  },
  {
   "cell_type": "code",
   "execution_count": null,
   "metadata": {
    "id": "PZVa_y3axdzn"
   },
   "outputs": [],
   "source": [
    "# Challenge 3\n",
    "# ---\n",
    "# Question: Assign the dictionary { \"brand\": \"Toyota\", \"model\": \"Wish\", \"year\": 2005 } \n",
    "# to the variable cars.\n",
    "# ---\n",
    "# YOUR CODE GOES BELOW\n",
    "#\n"
   ]
  },
  {
   "cell_type": "markdown",
   "metadata": {
    "id": "AZaNOe10xhBd"
   },
   "source": [
    "## 3. Printing"
   ]
  },
  {
   "cell_type": "markdown",
   "metadata": {
    "id": "KoqcSYwQxtRK"
   },
   "source": [
    "##### <font color=\"blue\">Example 1</font> "
   ]
  },
  {
   "cell_type": "code",
   "execution_count": null,
   "metadata": {
    "id": "ai3ZxHpcxw-J"
   },
   "outputs": [],
   "source": [
    "# Example 1\n",
    "# ---\n",
    "# Question: Printing the text hello in our output console\n",
    "# ---\n",
    "# OUR CODE GOES BELOW\n",
    "#\n",
    "\n",
    "print(\"Hello!\")"
   ]
  },
  {
   "cell_type": "markdown",
   "metadata": {
    "id": "b93FPbs0xuLv"
   },
   "source": [
    "##### <font color=\"blue\">Example 2</font> "
   ]
  },
  {
   "cell_type": "code",
   "execution_count": null,
   "metadata": {
    "id": "HM9ouOKxxxh1"
   },
   "outputs": [],
   "source": [
    "# Example 2\n",
    "# ---\n",
    "# Question: Printing the text Hello Valentine and putting a seperator.\n",
    "# ---\n",
    "# OUR CODE GOES BELOW\n",
    "#\n",
    "\n",
    "print(\"Hello\", \"Valentine!\", sep=\"-\")"
   ]
  },
  {
   "cell_type": "markdown",
   "metadata": {
    "id": "oPUu3IMexvkM"
   },
   "source": [
    "##### <font color=\"blue\">Example 3</font> "
   ]
  },
  {
   "cell_type": "code",
   "execution_count": null,
   "metadata": {
    "id": "4f4aOFsExyJa"
   },
   "outputs": [],
   "source": [
    "# Example 3 \n",
    "# ---\n",
    "# Question: Printing the following dictionary colors = {'red', 'green', 'blue'}\n",
    "# ---\n",
    "# OUR CODE GOES BELOW\n",
    "# \n",
    "\n",
    "colors = {'red', 'green', 'blue'}\n",
    "colors"
   ]
  },
  {
   "cell_type": "markdown",
   "metadata": {
    "id": "TsVuSiuK9vLo"
   },
   "source": [
    "#### <font color=\"green\">Challenges</font> "
   ]
  },
  {
   "cell_type": "markdown",
   "metadata": {
    "id": "AX1eFoHBxioZ"
   },
   "source": [
    "##### <font color=\"green\">Challenge 1</font>"
   ]
  },
  {
   "cell_type": "code",
   "execution_count": null,
   "metadata": {
    "id": "h5d4FLXDxmd4"
   },
   "outputs": [],
   "source": [
    "# Challenge 1\n",
    "# ---\n",
    "# Question: Using the print function print out your last name\n",
    "# ---\n",
    "# YOUR CODE GOES BELOW\n",
    "# \n"
   ]
  },
  {
   "cell_type": "markdown",
   "metadata": {
    "id": "xN0KYDlrxjzF"
   },
   "source": [
    "##### <font color=\"green\">Challenge 2</font>"
   ]
  },
  {
   "cell_type": "code",
   "execution_count": null,
   "metadata": {
    "id": "j3A29Of8xnEG"
   },
   "outputs": [],
   "source": [
    "# Challenge 2\n",
    "# ---\n",
    "# Question: Print out the your full names below seperated by spaces\n",
    "# ---\n",
    "# YOUR CODE GOES BELOW\n",
    "# \n"
   ]
  },
  {
   "cell_type": "markdown",
   "metadata": {
    "id": "LWRbnoj5xlT9"
   },
   "source": [
    "##### <font color=\"green\">Challenge 3</font>"
   ]
  },
  {
   "cell_type": "code",
   "execution_count": null,
   "metadata": {
    "id": "6V99ewapxnjz"
   },
   "outputs": [],
   "source": [
    "# Challenge 3\n",
    "# ---\n",
    "# Question: Store the values 400 and \"Employees\" in the variables x and y \n",
    "# then print out these two variables.\n",
    "# ---\n",
    "# YOUR CODE GOES BELOW\n",
    "# \n"
   ]
  },
  {
   "cell_type": "markdown",
   "metadata": {
    "id": "qOcy-X35HV_t"
   },
   "source": [
    "# 2. Arithmetic Operators"
   ]
  },
  {
   "cell_type": "markdown",
   "metadata": {
    "id": "HX5OKWTeH3y7"
   },
   "source": [
    "#### <font color=\"blue\">Examples</font>"
   ]
  },
  {
   "cell_type": "markdown",
   "metadata": {
    "id": "V3vakOO6H9Vh"
   },
   "source": [
    "##### <font color=\"blue\">Example 1"
   ]
  },
  {
   "cell_type": "code",
   "execution_count": null,
   "metadata": {
    "id": "LzONiSsfHAmy"
   },
   "outputs": [],
   "source": [
    "# Example 1\n",
    "# ---\n",
    "# Let's perform an addition operation below\n",
    "# ---\n",
    "# \n",
    "\n",
    "# Declare our variables\n",
    "a = 20\n",
    "b = 16\n",
    "\n",
    "# Addition\n",
    "c = a + b\n",
    "\n",
    "# Printing out our results\n",
    "print(c)"
   ]
  },
  {
   "cell_type": "markdown",
   "metadata": {
    "id": "RMTv6MI1IIT_"
   },
   "source": [
    "##### <font color=\"blue\">Example 2"
   ]
  },
  {
   "cell_type": "code",
   "execution_count": null,
   "metadata": {
    "id": "JPCyGVKjICxP"
   },
   "outputs": [],
   "source": [
    "# Example 2\n",
    "# ---\n",
    "# Performing a division operation\n",
    "# ---\n",
    "# \n",
    "d = a / b\n",
    "\n",
    "# Printing out our result\n",
    "print(d)"
   ]
  },
  {
   "cell_type": "markdown",
   "metadata": {
    "id": "HHygJvHMIPgh"
   },
   "source": [
    "##### <font color=\"blue\">Example 3"
   ]
  },
  {
   "cell_type": "code",
   "execution_count": null,
   "metadata": {
    "id": "FFONu-_VIO1k"
   },
   "outputs": [],
   "source": [
    "# Example 3\n",
    "# ---\n",
    "# Using the increment operator to perform a = a + b \n",
    "# ---\n",
    "# \n",
    "\n",
    "# Using the increment operator\n",
    "a += b\n",
    "\n",
    "# Printing out our result\n",
    "print(a)"
   ]
  },
  {
   "cell_type": "markdown",
   "metadata": {
    "id": "EqUWEUsNINyj"
   },
   "source": [
    "#### <font color=\"green\">Challenges</font> "
   ]
  },
  {
   "cell_type": "markdown",
   "metadata": {
    "id": "ExGMoK-pIb8p"
   },
   "source": [
    "##### <font color=\"green\">Challenge 1</font>"
   ]
  },
  {
   "cell_type": "code",
   "execution_count": null,
   "metadata": {
    "id": "DnfLaMI-IhDi"
   },
   "outputs": [],
   "source": [
    "# Challenge 1\n",
    "# ---\n",
    "# Question: Subtract b from a using the above declared variables\n",
    "# ---\n",
    "# \n",
    "print(a-b)"
   ]
  },
  {
   "cell_type": "markdown",
   "metadata": {
    "id": "ZfjZLNgMIeYh"
   },
   "source": [
    "##### <font color=\"green\">Challenge 2</font>"
   ]
  },
  {
   "cell_type": "code",
   "execution_count": null,
   "metadata": {
    "id": "gUZE2lrcIhXi"
   },
   "outputs": [],
   "source": [
    "# Challenge 2\n",
    "# ---\n",
    "# Question: Muplitiply a and b variables\n",
    "# ---\n",
    "# \n",
    "OUR CODE GOES HERE"
   ]
  },
  {
   "cell_type": "markdown",
   "metadata": {
    "id": "GjfFmzfjIfZO"
   },
   "source": [
    "##### <font color=\"green\">Challenge 3</font>"
   ]
  },
  {
   "cell_type": "code",
   "execution_count": null,
   "metadata": {
    "id": "8KDbHHs2IhuL"
   },
   "outputs": [],
   "source": [
    "# Challenge 3 \n",
    "# ---\n",
    "# Question: Using the decrement operator to perform a = a - b \n",
    "# ---\n",
    "# \n",
    "OUR CODE GOES HERE"
   ]
  },
  {
   "cell_type": "markdown",
   "metadata": {
    "id": "dqhVm_8kN2tl"
   },
   "source": [
    "# 3. Data Types"
   ]
  },
  {
   "cell_type": "markdown",
   "metadata": {
    "id": "VtTVm3cvN_lP"
   },
   "source": [
    "#### <font color=\"blue\">Examples</font>"
   ]
  },
  {
   "cell_type": "markdown",
   "metadata": {
    "id": "qIxhQwTHOIjm"
   },
   "source": [
    "##### <font color=\"blue\">Example 1"
   ]
  },
  {
   "cell_type": "code",
   "execution_count": null,
   "metadata": {
    "id": "n7APi3z1NtN0"
   },
   "outputs": [],
   "source": [
    "# Example 1\n",
    "# ---\n",
    "# Dynamically-inferred types\n",
    "# ---\n",
    "#\n",
    "x = 20\n",
    "print(type(x))\n",
    "x = '20'\n",
    "print(type(x))\n",
    "x = 20.0\n",
    "print(type(x))"
   ]
  },
  {
   "cell_type": "markdown",
   "metadata": {
    "id": "JdKpybEFOJOM"
   },
   "source": [
    "##### <font color=\"blue\">Example 2"
   ]
  },
  {
   "cell_type": "code",
   "execution_count": null,
   "metadata": {
    "id": "2Al_wNeZOE7t"
   },
   "outputs": [],
   "source": [
    "# Example 2\n",
    "# ---\n",
    "# Manual type-conversion (string to int)\n",
    "# ---\n",
    "# \n",
    "x = 20\n",
    "y = '5'\n",
    "print(x + int(y))"
   ]
  },
  {
   "cell_type": "markdown",
   "metadata": {
    "id": "XJoETlR_OKHt"
   },
   "source": [
    "##### <font color=\"blue\">Example 3"
   ]
  },
  {
   "cell_type": "code",
   "execution_count": null,
   "metadata": {
    "id": "CmPAy-efOEx-"
   },
   "outputs": [],
   "source": [
    "# Example 3\n",
    "# ---\n",
    "# Automatic type-conversion (int to float)\n",
    "# ---\n",
    "#\n",
    "x = 20\n",
    "print(type(x))\n",
    "x += 5.0\n",
    "print(x), type(x)"
   ]
  },
  {
   "cell_type": "markdown",
   "metadata": {
    "id": "8w3U0HVEOccy"
   },
   "source": [
    "##### <font color=\"blue\">Example 4"
   ]
  },
  {
   "cell_type": "code",
   "execution_count": null,
   "metadata": {
    "id": "o_qQW55lOeY5"
   },
   "outputs": [],
   "source": [
    "# Example 4\n",
    "# ---\n",
    "# Dividing Integers\n",
    "# ---\n",
    "# \n",
    "a = 20\n",
    "b = 5\n",
    "print(a/b)\n",
    "print(b/a)"
   ]
  },
  {
   "cell_type": "markdown",
   "metadata": {
    "id": "hDZ9eDtmOgLi"
   },
   "source": [
    "##### <font color=\"blue\">Example 5"
   ]
  },
  {
   "cell_type": "code",
   "execution_count": null,
   "metadata": {
    "id": "RqtHFRB1OkU-"
   },
   "outputs": [],
   "source": [
    "# Example 5\n",
    "# ---\n",
    "# Forcing float division\n",
    "# ---\n",
    "# \n",
    "print(b/'5')\n",
    "# How can you correct this?"
   ]
  },
  {
   "cell_type": "markdown",
   "metadata": {
    "id": "SxIaU06sOuYQ"
   },
   "source": [
    "##### <font color=\"blue\">Example 6"
   ]
  },
  {
   "cell_type": "code",
   "execution_count": null,
   "metadata": {
    "id": "Ho7QuNWqOvNs"
   },
   "outputs": [],
   "source": [
    "# Examaple 6\n",
    "# ---\n",
    "# String \"arithmetic\" (actually concatenation)\n",
    "# ---\n",
    "a = 'John '\n",
    "b = 'Doe'\n",
    "print(a + b)"
   ]
  },
  {
   "cell_type": "markdown",
   "metadata": {
    "id": "GuR57OHgOBnM"
   },
   "source": [
    "#### <font color=\"green\">Challenges</font> "
   ]
  },
  {
   "cell_type": "markdown",
   "metadata": {
    "id": "eaq4UrFLONmb"
   },
   "source": [
    "##### <font color=\"green\">Challenge 1</font>"
   ]
  },
  {
   "cell_type": "code",
   "execution_count": null,
   "metadata": {
    "id": "sXCvJSB1OD8w"
   },
   "outputs": [],
   "source": [
    "# Challenge 1\n",
    "# ---\n",
    "# Question: Concatenate and print your full names.\n",
    "# ---\n",
    "# \n",
    "OUR CODE GOES HERE\n"
   ]
  },
  {
   "cell_type": "markdown",
   "metadata": {
    "id": "bSurXHq_OOjc"
   },
   "source": [
    "##### <font color=\"green\">Challenge 2</font>"
   ]
  },
  {
   "cell_type": "code",
   "execution_count": null,
   "metadata": {
    "id": "fQjDSfP1OEPH"
   },
   "outputs": [],
   "source": [
    "# Challenge 2\n",
    "# ---\n",
    "# Question: Run and correct the following code.\n",
    "# ---\n",
    "# \n",
    "x = 10\n",
    "y = '5'\n",
    "print x + y"
   ]
  },
  {
   "cell_type": "markdown",
   "metadata": {
    "id": "hnyRRASVOPq4"
   },
   "source": [
    "##### <font color=\"green\">Challenge 3</font>"
   ]
  },
  {
   "cell_type": "code",
   "execution_count": null,
   "metadata": {
    "id": "7qUmDv5NOFl0"
   },
   "outputs": [],
   "source": [
    "# Challenge 3\n",
    "# ---\n",
    "# Question: Perform integer division of 199 and 3 with the result being a float.\n",
    "# ---\n",
    "# \n",
    "OUR CODE GOES HERE"
   ]
  },
  {
   "cell_type": "markdown",
   "metadata": {
    "id": "okwTjEZ_PCiN"
   },
   "source": [
    "##### <font color=\"green\">Challenge 4</font>"
   ]
  },
  {
   "cell_type": "code",
   "execution_count": null,
   "metadata": {
    "id": "YThUHgEzPEfP"
   },
   "outputs": [],
   "source": [
    "# Challenge 4\n",
    "# ---\n",
    "# Question: Concatenate and print your postal address with the City and Country.\n",
    "# ---\n",
    "# \n",
    "OUR CODE GOES HERE"
   ]
  },
  {
   "cell_type": "markdown",
   "metadata": {
    "id": "80kHsk0gQiX5"
   },
   "source": [
    "# 4. Lists"
   ]
  },
  {
   "cell_type": "markdown",
   "metadata": {
    "id": "r6CjXb92QsKs"
   },
   "source": [
    "#### <font color=\"blue\">Examples</font>"
   ]
  },
  {
   "cell_type": "markdown",
   "metadata": {
    "id": "_We_Aif3Q_n5"
   },
   "source": [
    "##### <font color=\"blue\">Example 1"
   ]
  },
  {
   "cell_type": "code",
   "execution_count": null,
   "metadata": {
    "id": "2JcpAVbvQd1w"
   },
   "outputs": [],
   "source": [
    "# Example 1\n",
    "# ---\n",
    "# Creating a restaurant list\n",
    "# ---\n",
    "# \n",
    "\n",
    "# Defining our list\n",
    "restaurants = [\"cj's\", \"Java\", \"Nyama Mama\", \"Italian\", \"Swahili\", \"Khosa\"]\n",
    "\n",
    "# Printing our result\n",
    "print(restaurants)"
   ]
  },
  {
   "cell_type": "markdown",
   "metadata": {
    "id": "sVrIv1ucRAtY"
   },
   "source": [
    "##### <font color=\"blue\">Example 2"
   ]
  },
  {
   "cell_type": "code",
   "execution_count": null,
   "metadata": {
    "id": "aI4qEeumRCRr"
   },
   "outputs": [],
   "source": [
    "# Example 2\n",
    "# ---\n",
    "# Adding elements to a list\n",
    "# ---\n",
    "# \n",
    "\n",
    "# Adding the restaurant Viridian to our restaurants list\n",
    "restaurants.append(\"Viridian\")\n",
    "\n",
    "# Printing our result\n",
    "print(restaurants)"
   ]
  },
  {
   "cell_type": "markdown",
   "metadata": {
    "id": "xaLN8jeYRDll"
   },
   "source": [
    "##### <font color=\"blue\">Example 3"
   ]
  },
  {
   "cell_type": "code",
   "execution_count": null,
   "metadata": {
    "id": "eqHEZSfYRE_X"
   },
   "outputs": [],
   "source": [
    "# Example 3 \n",
    "# ---\n",
    "# Updating an element in a list\n",
    "# ---\n",
    "#\n",
    "restaurants[1] = \"Asmara\"\n",
    "\n",
    "# Printing our result\n",
    "print(restaurants)"
   ]
  },
  {
   "cell_type": "markdown",
   "metadata": {
    "id": "dGKEWiBwTVFM"
   },
   "source": [
    "##### <font color=\"blue\">Example 4"
   ]
  },
  {
   "cell_type": "code",
   "execution_count": null,
   "metadata": {
    "id": "JTi3KkzITYk8"
   },
   "outputs": [],
   "source": [
    "# Example 4 \n",
    "# ---\n",
    "# Removing an element from a list\n",
    "# ---\n",
    "#\n",
    "restaurants.remove(\"Viridian\")\n",
    "\n",
    "# Printing our result\n",
    "print(restaurants)"
   ]
  },
  {
   "cell_type": "markdown",
   "metadata": {
    "id": "WnXWTn9WTaJs"
   },
   "source": [
    "##### <font color=\"blue\">Example 5"
   ]
  },
  {
   "cell_type": "code",
   "execution_count": null,
   "metadata": {
    "id": "3o416dxITbNq"
   },
   "outputs": [],
   "source": [
    "# Example 5\n",
    "# ---\n",
    "# Slicing a list\n",
    "# ---\n",
    "#\n",
    "\n",
    "# Getting the first two elements \n",
    "print(restaurants[0:2])\n",
    "\n",
    "# Getting items from 2nd position to the end \n",
    "print(restaurants[2:])"
   ]
  },
  {
   "cell_type": "markdown",
   "metadata": {
    "id": "96-FMInjQs5S"
   },
   "source": [
    "#### <font color=\"green\">Challenges</font> "
   ]
  },
  {
   "cell_type": "markdown",
   "metadata": {
    "id": "z9M2LwKAQvN_"
   },
   "source": [
    "##### <font color=\"green\">Challenge 1</font>"
   ]
  },
  {
   "cell_type": "code",
   "execution_count": null,
   "metadata": {
    "id": "gkiZKIQfQuzt"
   },
   "outputs": [],
   "source": [
    "# Challenge 1\n",
    "# ---\n",
    "# Question: Create a list with 10 kenyan towns.\n",
    "# Towns: Lodwar, Thika, Kitale, Nyeri, Lamu, Naivasha, Nanyuki, Kakamega, Nyahururu, Voi\n",
    "# ---\n",
    "# \n",
    "OUR CODE GOES HERE"
   ]
  },
  {
   "cell_type": "markdown",
   "metadata": {
    "id": "fnRxw0qjQ1aZ"
   },
   "source": [
    "##### <font color=\"green\">Challenge 2</font>"
   ]
  },
  {
   "cell_type": "code",
   "execution_count": null,
   "metadata": {
    "id": "dCUhw0npQ4lD"
   },
   "outputs": [],
   "source": [
    "# Challenge 2\n",
    "# ---\n",
    "# Question: Add the towm Homabay to the list\n",
    "# ---\n",
    "# \n",
    "OUR CODE GOES HERE"
   ]
  },
  {
   "cell_type": "markdown",
   "metadata": {
    "id": "HA99lKmhQ68W"
   },
   "source": [
    "##### <font color=\"green\">Challenge 3</font>"
   ]
  },
  {
   "cell_type": "code",
   "execution_count": null,
   "metadata": {
    "id": "Ci5HL0QDQ8o-"
   },
   "outputs": [],
   "source": [
    "# Challenge 3\n",
    "# ---\n",
    "# Question: Update the city in the fifth position to Malindi\n",
    "# ---\n",
    "# \n",
    "OUR CODE GOES HERE"
   ]
  },
  {
   "cell_type": "markdown",
   "metadata": {
    "id": "z7mA-mghTmOc"
   },
   "source": [
    "##### <font color=\"green\">Challenge 4</font>"
   ]
  },
  {
   "cell_type": "code",
   "execution_count": null,
   "metadata": {
    "id": "d8oGQBGUTr3i"
   },
   "outputs": [],
   "source": [
    "# Challenge 4\n",
    "# ---\n",
    "# Question: Get the city Homabay and Malindi from the kenyan towns list\n",
    "# ---\n",
    "# \n",
    "OUR CODE GOES HERE"
   ]
  },
  {
   "cell_type": "markdown",
   "metadata": {
    "id": "qcpLR3a_XPLd"
   },
   "source": [
    "# 5. Conditional (If) Statements"
   ]
  },
  {
   "cell_type": "markdown",
   "metadata": {
    "id": "EnaCUxpRXT0J"
   },
   "source": [
    "#### <font color=\"blue\">Examples</font>"
   ]
  },
  {
   "cell_type": "markdown",
   "metadata": {
    "id": "ZX5LhYDuXV2O"
   },
   "source": [
    "##### <font color=\"blue\">Example 1"
   ]
  },
  {
   "cell_type": "code",
   "execution_count": null,
   "metadata": {
    "id": "f9y3Gs_0XF9d"
   },
   "outputs": [],
   "source": [
    "# Example 1\n",
    "# ---\n",
    "# If keyword\n",
    "# ---\n",
    "# \n",
    "p = 500\n",
    "q = 100\n",
    "\n",
    "if q < p:\n",
    "  print(\"y is less than x\")"
   ]
  },
  {
   "cell_type": "markdown",
   "metadata": {
    "id": "7vliBrC5Xk65"
   },
   "source": [
    "##### <font color=\"blue\">Example 2"
   ]
  },
  {
   "cell_type": "code",
   "execution_count": null,
   "metadata": {
    "id": "HChmx56TXl3j"
   },
   "outputs": [],
   "source": [
    "# Example 2\n",
    "# ---\n",
    "# Elif keyword\n",
    "# ---\n",
    "# \n",
    "r = 100\n",
    "s = 100\n",
    "\n",
    "p = 500\n",
    "q = 100\n",
    "\n",
    "if s < r:\n",
    "  if q < p:\n",
    "    print(\"y is less than x\")\n",
    "elif r == s:\n",
    "  print(\"r and s are equal\")"
   ]
  },
  {
   "cell_type": "markdown",
   "metadata": {
    "id": "0xG8q15EXnW_"
   },
   "source": [
    "##### <font color=\"blue\">Example 3"
   ]
  },
  {
   "cell_type": "code",
   "execution_count": null,
   "metadata": {
    "id": "jxac2rfpXpws"
   },
   "outputs": [],
   "source": [
    "# Example 3 \n",
    "# ---\n",
    "# Else keyword\n",
    "# ---\n",
    "# \n",
    "a = 150\n",
    "b = 50\n",
    "\n",
    "if b > a:\n",
    "  print(\"b is greater than a\")\n",
    "elif a == b:\n",
    "  print(\"a and b are equal\")\n",
    "else:\n",
    "  print(\"a is greater than b\")"
   ]
  },
  {
   "cell_type": "markdown",
   "metadata": {
    "id": "2gYk4uIZYFKf"
   },
   "source": [
    "##### <font color=\"blue\">Example 4"
   ]
  },
  {
   "cell_type": "code",
   "execution_count": null,
   "metadata": {
    "id": "cswVDkN0YGQV"
   },
   "outputs": [],
   "source": [
    "# Example 4\n",
    "# ---\n",
    "# And keyword\n",
    "# ---\n",
    "# \n",
    "name = \"Mary\"    \n",
    "age  = 30 \n",
    "\n",
    "if name == \"Mary\" and age == 30:\n",
    "  print(\"My name is Mary, and I am 30 years old.\")"
   ]
  },
  {
   "cell_type": "markdown",
   "metadata": {
    "id": "7vPUGzblYGj1"
   },
   "source": [
    "##### <font color=\"blue\">Example 5"
   ]
  },
  {
   "cell_type": "code",
   "execution_count": null,
   "metadata": {
    "id": "ivMrjohRYHe6"
   },
   "outputs": [],
   "source": [
    "# Example 5\n",
    "# ---\n",
    "# Or keyword\n",
    "# ---\n",
    "# \n",
    "a = 100\n",
    "b = 101\n",
    "c = 99\n",
    "\n",
    "if a > b or a > c:\n",
    "  print(\"At least one of the conditions is True\")"
   ]
  },
  {
   "cell_type": "markdown",
   "metadata": {
    "id": "IhBdAGNeXa9N"
   },
   "source": [
    "#### <font color=\"green\">Challenges</font> "
   ]
  },
  {
   "cell_type": "markdown",
   "metadata": {
    "id": "kBHUUpINXev4"
   },
   "source": [
    "##### <font color=\"green\">Challenge 1</font>"
   ]
  },
  {
   "cell_type": "code",
   "execution_count": null,
   "metadata": {
    "id": "fae-fxEZXfix"
   },
   "outputs": [],
   "source": [
    "# Challenge 1\n",
    "# ---\n",
    "# Question: Find out if t is less than s\n",
    "# ---\n",
    "# OUR CODE BELOW\n",
    "#"
   ]
  },
  {
   "cell_type": "markdown",
   "metadata": {
    "id": "Xk2YcqtKXgiL"
   },
   "source": [
    "##### <font color=\"green\">Challenge 2</font>"
   ]
  },
  {
   "cell_type": "code",
   "execution_count": null,
   "metadata": {
    "id": "uTgQ2ZHZXh2k"
   },
   "outputs": [],
   "source": [
    "# Challenge 2\n",
    "# ---\n",
    "# Question: Write a program that checks the value of vowel, i.e. a, e, i, o or u \n",
    "# then displays whether the entered letter is a vowel.\n",
    "# ---\n",
    "# OUR CODE BELOW\n",
    "#"
   ]
  },
  {
   "cell_type": "markdown",
   "metadata": {
    "id": "hdEWP1SNnFHp"
   },
   "source": [
    "# 6. Dictionaries"
   ]
  },
  {
   "cell_type": "markdown",
   "metadata": {
    "id": "_TGroESwnRos"
   },
   "source": [
    "#### <font color=\"blue\">Examples</font>"
   ]
  },
  {
   "cell_type": "markdown",
   "metadata": {
    "id": "TbJ6OFKqnUTy"
   },
   "source": [
    "##### <font color=\"blue\">Example 1"
   ]
  },
  {
   "cell_type": "code",
   "execution_count": null,
   "metadata": {
    "id": "sIEWsndxnBIx"
   },
   "outputs": [],
   "source": [
    "# Example 1\n",
    "# ---\n",
    "# Creating a dictionary\n",
    "# ---\n",
    "# \n",
    "\n",
    "vehicle =\t{\n",
    "  'brand': 'Toyota',\n",
    "  'model': 'Subaru',\n",
    "  'year': 2019\n",
    "}\n",
    "print(vehicle)"
   ]
  },
  {
   "cell_type": "markdown",
   "metadata": {
    "id": "HxuW_VVCnVgw"
   },
   "source": [
    "##### <font color=\"blue\">Example 2"
   ]
  },
  {
   "cell_type": "code",
   "execution_count": null,
   "metadata": {
    "id": "1Vmghb0onWoR"
   },
   "outputs": [],
   "source": [
    "# Example 2\n",
    "# ---\n",
    "# Adding elements to a dictionary\n",
    "# ---\n",
    "# \n",
    "\n",
    "# Adding an element to your dictionary\n",
    "vehicle['engine'] = '1800cc'  \n",
    "\n",
    "# Printing out our updated dictionary\n",
    "print(vehicle)"
   ]
  },
  {
   "cell_type": "markdown",
   "metadata": {
    "id": "8LarnuTTnalz"
   },
   "source": [
    "##### <font color=\"blue\">Example 3"
   ]
  },
  {
   "cell_type": "code",
   "execution_count": null,
   "metadata": {
    "id": "iAQKOoTJnd-D"
   },
   "outputs": [],
   "source": [
    "# Example 3\n",
    "# ---\n",
    "# Updating elements in a dictionary\n",
    "# ---\n",
    "# \n",
    "\n",
    "# Updating an element to our dictionary\n",
    "vehicle['engine'] = '2400cc'\n",
    "\n",
    "# Printing out our updated dictionary\n",
    "print(vehicle)"
   ]
  },
  {
   "cell_type": "markdown",
   "metadata": {
    "id": "VSxz3OK9nb4P"
   },
   "source": [
    "##### <font color=\"blue\">Example 4"
   ]
  },
  {
   "cell_type": "code",
   "execution_count": null,
   "metadata": {
    "id": "9JidwoWunedW"
   },
   "outputs": [],
   "source": [
    "# Example 4\n",
    "# ---\n",
    "# Accessing an element from a dictionary\n",
    "# ---\n",
    "# \n",
    "\n",
    "# Printing our vehicle's model\n",
    "#\n",
    "print(vehicle[\"model\"]) \n",
    "\n",
    "# or we could use\n",
    "print(vehicle.get(\"model\"))"
   ]
  },
  {
   "cell_type": "markdown",
   "metadata": {
    "id": "_xf8ei3mnc3-"
   },
   "source": [
    "##### <font color=\"blue\">Example 5"
   ]
  },
  {
   "cell_type": "code",
   "execution_count": null,
   "metadata": {
    "id": "kBMhLSUvnfXb"
   },
   "outputs": [],
   "source": [
    "# Example 5\n",
    "# ---\n",
    "# Removing an element from a dictionary\n",
    "# ---\n",
    "# \n",
    "\n",
    "# Removing model from the dictionary\n",
    "vehicle_without_model = vehicle.pop(\"model\")\n",
    "vehicle"
   ]
  },
  {
   "cell_type": "markdown",
   "metadata": {
    "id": "C4tY9xM-n6jP"
   },
   "source": [
    "##### <font color=\"blue\">Example 6"
   ]
  },
  {
   "cell_type": "code",
   "execution_count": null,
   "metadata": {
    "id": "l10tZKkqn791"
   },
   "outputs": [],
   "source": [
    "# Example 6\n",
    "# ---\n",
    "# Checking if an element exists\n",
    "# ---\n",
    "# \n",
    "\n",
    "if \"brand\" in vehicle:\n",
    "  print(\"Yes, the keyword exists in the dictionary\")\n",
    "else:\n",
    "  print('No, the keyword does not exist in the dictionary')\n"
   ]
  },
  {
   "cell_type": "markdown",
   "metadata": {
    "id": "qxG8RHFnniJT"
   },
   "source": [
    "#### <font color=\"green\">Challenges</font> "
   ]
  },
  {
   "cell_type": "markdown",
   "metadata": {
    "id": "dQlkT13Gnjid"
   },
   "source": [
    "##### <font color=\"green\">Challenge 1</font>"
   ]
  },
  {
   "cell_type": "code",
   "execution_count": null,
   "metadata": {
    "id": "omUwx9wnnlcl"
   },
   "outputs": [],
   "source": [
    "# Challenge 1\n",
    "# ---\n",
    "# Create a dictionary named television then populate it with \n",
    "# any values for screen_size, screen_type, manufacturer\n",
    "# ---\n",
    "#\n",
    "OUR CODE GOES HERE"
   ]
  },
  {
   "cell_type": "markdown",
   "metadata": {
    "id": "6Pdl8p-QnmN1"
   },
   "source": [
    "##### <font color=\"green\">Challenge 2</font>"
   ]
  },
  {
   "cell_type": "code",
   "execution_count": null,
   "metadata": {
    "id": "szya8o5cnnDr"
   },
   "outputs": [],
   "source": [
    "# Challenge 2\n",
    "# ---\n",
    "# Add the element date_of_manufacture with value 2018 to the \n",
    "# television dictionary \n",
    "# ---\n",
    "#\n",
    "OUR CODE GOES HERE"
   ]
  },
  {
   "cell_type": "markdown",
   "metadata": {
    "id": "93yfMyQWnovw"
   },
   "source": [
    "##### <font color=\"green\">Challenge 3</font>"
   ]
  },
  {
   "cell_type": "code",
   "execution_count": null,
   "metadata": {
    "id": "nRK7lwI-npy6"
   },
   "outputs": [],
   "source": [
    "# Challenge 3\n",
    "# Update the element date_of_manufacture with value 2019 in the \n",
    "# television dictionary \n",
    "# ---\n",
    "#\n",
    "OUR CODE GOES HERE"
   ]
  },
  {
   "cell_type": "markdown",
   "metadata": {
    "id": "6T7Z10zUnquf"
   },
   "source": [
    "##### <font color=\"green\">Challenge 4</font>"
   ]
  },
  {
   "cell_type": "code",
   "execution_count": null,
   "metadata": {
    "id": "QijrUFV6nruq"
   },
   "outputs": [],
   "source": [
    "# Challenge 4\n",
    "# Access the screen size in the television dictionary above\n",
    "# ---\n",
    "#\n",
    "OUR CODE GOES HERE"
   ]
  },
  {
   "cell_type": "markdown",
   "metadata": {
    "id": "l4aSf1SQnsIc"
   },
   "source": [
    "##### <font color=\"green\">Challenge 5</font>"
   ]
  },
  {
   "cell_type": "code",
   "execution_count": null,
   "metadata": {
    "id": "HE2tBOlpntTl"
   },
   "outputs": [],
   "source": [
    "# Challenge 45\n",
    "# Check whether designer is a key in the television dictionary \n",
    "# ---\n",
    "#\n",
    "OUR CODE GOES HERE"
   ]
  },
  {
   "cell_type": "markdown",
   "metadata": {
    "id": "wW6zZPzHpPkw"
   },
   "source": [
    "# 7. For Loops"
   ]
  },
  {
   "cell_type": "markdown",
   "metadata": {
    "id": "Tj7-43EzpXKP"
   },
   "source": [
    "#### <font color=\"blue\">Examples</font>"
   ]
  },
  {
   "cell_type": "markdown",
   "metadata": {
    "id": "9CbPFikcpb65"
   },
   "source": [
    "##### <font color=\"blue\">Example 1"
   ]
  },
  {
   "cell_type": "code",
   "execution_count": 1,
   "metadata": {
    "id": "A6ghbClnpKgH"
   },
   "outputs": [
    {
     "name": "stdout",
     "output_type": "stream",
     "text": [
      "K\n",
      "a\n",
      "r\n",
      "u\n",
      "n\n",
      "a\n",
      " \n",
      "K\n",
      "a\n",
      "r\n",
      "u\n",
      "n\n",
      "a\n"
     ]
    }
   ],
   "source": [
    "# Example 1\n",
    "# ---\n",
    "# Looping/iterating through a string\n",
    "# ---\n",
    "# \n",
    "for y in \"Karuna Karuna\":\n",
    "  print(y)"
   ]
  },
  {
   "cell_type": "markdown",
   "metadata": {
    "id": "8TToTfDxpcsC"
   },
   "source": [
    "##### <font color=\"blue\">Example 2"
   ]
  },
  {
   "cell_type": "code",
   "execution_count": null,
   "metadata": {
    "id": "KQjf-iXjpdoW"
   },
   "outputs": [],
   "source": [
    "# Example 2\n",
    "# ---\n",
    "# Using a break statement to stop the loop before it continues its iteration\n",
    "# ---\n",
    "# \n",
    "\n",
    "# Let's print out the restaurants list that we had created earlier on\n",
    "restaurants = [\"cj's\", \"Java\", \"Nyama Mama\", \"Italian\", \"Viridian\", \"Khosa\"]\n",
    "\n",
    "# Looping and using a break statement\n",
    "for x in restaurants:\n",
    "  print(x) \n",
    "  if x == \"Viridian\":\n",
    "    break"
   ]
  },
  {
   "cell_type": "markdown",
   "metadata": {
    "id": "O0n2jmlupeUe"
   },
   "source": [
    "##### <font color=\"blue\">Example 3"
   ]
  },
  {
   "cell_type": "code",
   "execution_count": null,
   "metadata": {
    "id": "cwraj51ZpfqH"
   },
   "outputs": [],
   "source": [
    "# Example 3\n",
    "# ---\n",
    "# Using a continue statement to stop the current iteration of the loop \n",
    "# and continue the next section of our code\n",
    "# ---\n",
    "# \n",
    "\n",
    "mobile_phone = [\"iphone 4\", \"iphone 5\", \"iphone 6\", \"iphone 7\", \"iphone 8\", \"iphone x\", \"iphone xs\"]\n",
    "\n",
    "for x in mobile_phone:  \n",
    "    if x == 'iphone 6' or x == 'iphone 8': \n",
    "         continue\n",
    "    print ('Checked Phone :', x) "
   ]
  },
  {
   "cell_type": "markdown",
   "metadata": {
    "id": "uBJfTBcDpooj"
   },
   "source": [
    "#### <font color=\"green\">Challenges</font> "
   ]
  },
  {
   "cell_type": "markdown",
   "metadata": {
    "id": "xVpVBXPkprnS"
   },
   "source": [
    "##### <font color=\"green\">Challenge 1</font>"
   ]
  },
  {
   "cell_type": "code",
   "execution_count": null,
   "metadata": {
    "id": "HFGk4EqIppVV"
   },
   "outputs": [],
   "source": [
    "# Challenge 1\n",
    "# ---\n",
    "# Question: Iterate through the string \"My land is Kenya\"\n",
    "# ---\n",
    "#\n",
    "OUR CODE GOES HERE"
   ]
  },
  {
   "cell_type": "markdown",
   "metadata": {
    "id": "05xi5W5kpsYM"
   },
   "source": [
    "##### <font color=\"green\">Challenge 2</font>"
   ]
  },
  {
   "cell_type": "code",
   "execution_count": null,
   "metadata": {
    "id": "E3VR4EOWptKc"
   },
   "outputs": [],
   "source": [
    "# Challenge 2\n",
    "# ---\n",
    "# Question: Iterate through the given footballers list and stop at \"Mariga\"\n",
    "# ---\n",
    "# \n",
    "\n",
    "footballers = [\"Oliech\", \"Kahata\", \"Yohana\", \"Matasi\", \"Mariga\", \"Wanyama\"]\n",
    "\n",
    "OUR CODE GOES HERE"
   ]
  },
  {
   "cell_type": "markdown",
   "metadata": {
    "id": "wtPFkTZCptbR"
   },
   "source": [
    "##### <font color=\"green\">Challenge 3</font>"
   ]
  },
  {
   "cell_type": "code",
   "execution_count": null,
   "metadata": {
    "id": "FyFcSQtNpt-x"
   },
   "outputs": [],
   "source": [
    "# Challenge 3\n",
    "# ---\n",
    "# Let's print out a word if it doesn't have the letter \"e\" in the given cakes below\n",
    "# ---\n",
    "# Hint: \n",
    "# \n",
    "\n",
    "cakes = [\"Blueberry\", \"Raspberry\", \"Vanilla\", \"Chocolate\", \"Marble\", \"Apple\", \"Banana\", \"Passion\"]\n",
    "\n",
    "OUR CODE GOES HERE"
   ]
  },
  {
   "cell_type": "markdown",
   "metadata": {
    "id": "lY-G45bwqiq8"
   },
   "source": [
    "# 8. While Loops"
   ]
  },
  {
   "cell_type": "markdown",
   "metadata": {
    "id": "pZnqvIFlqrcF"
   },
   "source": [
    "#### <font color=\"blue\">Examples</font>"
   ]
  },
  {
   "cell_type": "markdown",
   "metadata": {
    "id": "iO82jGS5qwik"
   },
   "source": [
    "##### <font color=\"blue\">Example 1"
   ]
  },
  {
   "cell_type": "code",
   "execution_count": null,
   "metadata": {
    "id": "Miw-1LdYqfoZ"
   },
   "outputs": [],
   "source": [
    "# Example 1\n",
    "# ---\n",
    "# Iterating over a list using the while loop\n",
    "# ---\n",
    "\n",
    "# First defining our list\n",
    "teachers = ['Mukami', 'Kamau', 'Oliech', 'Otieno', 'Ewar', 'Nyambura', 'Lucas', 'Dennis', 'Hellen']\n",
    "\n",
    "# Our while loop will start counting from 0,\n",
    "i = 0\n",
    "\n",
    "# determining the no. of elements in our teachers list\n",
    "no_of_teachers = len(teachers) \n",
    "\n",
    "# Performing our iteration, starting from 0 until i is not less than the no_of_teachers\n",
    "while i < no_of_teachers:\n",
    "  \n",
    "  # print out the element in the list as per the index\n",
    "  print(teachers[i])\n",
    "  \n",
    "  # incrementing our i by 1\n",
    "  i += 1"
   ]
  },
  {
   "cell_type": "markdown",
   "metadata": {
    "id": "iU4HK7hrqiMO"
   },
   "source": [
    "##### <font color=\"blue\">Example 2"
   ]
  },
  {
   "cell_type": "code",
   "execution_count": null,
   "metadata": {
    "id": "OMGyf-1hqyQS"
   },
   "outputs": [],
   "source": [
    "# Example 2\n",
    "# ---\n",
    "# Using a break statement while iterating over our teachers list\n",
    "# ---\n",
    "# \n",
    "\n",
    "# Our while loop will start counting from 0,\n",
    "i = 0\n",
    "\n",
    "# determining the no. of elements in our teachers list\n",
    "no_of_teachers = len(teachers) \n",
    "\n",
    "# defining our word variable\n",
    "word = \"Emma\"\n",
    "\n",
    "\n",
    "# Performing our iteration, starting from 0 until i is not less than the no_of_teachers\n",
    "while i < no_of_teachers:\n",
    "  \n",
    "  # print out the element in the list as per the index\n",
    "  if word == teachers[i]:\n",
    "    \n",
    "      print(\"Find the element at position:\",i)\n",
    "    \n",
    "      break\n",
    "  \n",
    "  # incrementing our i by 1\n",
    "  i += 1"
   ]
  },
  {
   "cell_type": "markdown",
   "metadata": {
    "id": "UoUvopuiqz1A"
   },
   "source": [
    "##### <font color=\"blue\">Example 3"
   ]
  },
  {
   "cell_type": "code",
   "execution_count": null,
   "metadata": {
    "id": "OpzRASVXq07R"
   },
   "outputs": [],
   "source": [
    "# Example 3\n",
    "# ---\n",
    "# Using the continue statement forces the next iteration of the loop to take place \n",
    "# ---\n",
    "#\n",
    "\n",
    "# Our while loop will start counting from 0,\n",
    "i = 0\n",
    "\n",
    "# determining the no. of elements in our teachers list\n",
    "no_of_teachers = len(teachers) \n",
    "\n",
    "# defining our word variable\n",
    "word = \"Emma\"\n",
    "\n",
    "\n",
    "# Performing our iteration, starting from 0 until i is not less than the no_of_teachers\n",
    "while i < no_of_teachers:\n",
    "  \n",
    "    print(\"Checking element:\", i)\n",
    "    \n",
    "    if word != teachers[i]:\n",
    "        \n",
    "        i = i + 1\n",
    "        \n",
    "        continue\n",
    " \n",
    "    print(\"Find the element at \", i)\n",
    "    \n",
    "    # stop the loop\n",
    "    i = no_of_teachers "
   ]
  },
  {
   "cell_type": "markdown",
   "metadata": {
    "id": "_BlOlAaNq4Aj"
   },
   "source": [
    "#### <font color=\"green\">Challenges</font> "
   ]
  },
  {
   "cell_type": "markdown",
   "metadata": {
    "id": "yDuSe7aAq56q"
   },
   "source": [
    "##### <font color=\"green\">Challenge 1</font>"
   ]
  },
  {
   "cell_type": "code",
   "execution_count": null,
   "metadata": {
    "id": "lDRkMkFIq7n5"
   },
   "outputs": [],
   "source": [
    "# Challenge 1\n",
    "# ---\n",
    "# Question: Iterate through the following list and stop at 8\n",
    "# ---\n",
    "# \n",
    "\n",
    "a = [1, 2, 4, 12, 1, 2, 3, (5, 6), ['Hello', 'From', 'The'], 8, 'Other', 'Side']\n",
    "\n",
    "OUR CODE GOES HERE"
   ]
  },
  {
   "cell_type": "markdown",
   "metadata": {
    "id": "m4u98nWIq76h"
   },
   "source": [
    "##### <font color=\"green\">Challenge 2</font>"
   ]
  },
  {
   "cell_type": "code",
   "execution_count": null,
   "metadata": {
    "id": "sZwMk2rxq8wP"
   },
   "outputs": [],
   "source": [
    "# Challenge 2 \n",
    "# ---\n",
    "# Question: Create a while loop that prints out the following list \n",
    "# skipping the string 'Other' during iteration.\n",
    "# ---\n",
    "# \n",
    "\n",
    "a = [1, 2, 4, 12, 1, 2, 3, (5, 6), ['Hello', 'From', 'The'], 8, 'Other', 'Side']\n",
    "\n",
    "OUR CODE GOES HERE"
   ]
  },
  {
   "cell_type": "markdown",
   "metadata": {
    "id": "rYrnAuYBryYC"
   },
   "source": [
    "# 9. Functions "
   ]
  },
  {
   "cell_type": "markdown",
   "metadata": {
    "id": "WOi0gv2Dr83t"
   },
   "source": [
    "#### <font color=\"blue\">Examples</font>"
   ]
  },
  {
   "cell_type": "markdown",
   "metadata": {
    "id": "GgSYzCUYsCWG"
   },
   "source": [
    "##### <font color=\"blue\">Example 1"
   ]
  },
  {
   "cell_type": "code",
   "execution_count": null,
   "metadata": {
    "id": "0zJ1kn1BrwkV"
   },
   "outputs": [],
   "source": [
    "# Example 1\n",
    "# ---\n",
    "# Let's use built-in functions\n",
    "# ---\n",
    "# \n",
    "\n",
    "# The max() function will return the item with the highest value as shown\n",
    "# in the given list\n",
    "x = max([23, 22, 55, 23, 44])\n",
    "print(x)\n",
    "\n",
    "# Using the max() function, we can return the item with the highest value alphabetically\n",
    "y = max([\"Susan\", \"Grace\", \"Simon\"])\n",
    "print(y)"
   ]
  },
  {
   "cell_type": "markdown",
   "metadata": {
    "id": "-bAG0iH2sDiV"
   },
   "source": [
    "##### <font color=\"blue\">Example 2"
   ]
  },
  {
   "cell_type": "code",
   "execution_count": null,
   "metadata": {
    "id": "0YQ7eSTvsEZP"
   },
   "outputs": [],
   "source": [
    "# Example 2\n",
    "# ---\n",
    "# Let's create a function to find out which of two numbers is greater than the other \n",
    "# ---\n",
    "#\n",
    "\n",
    "# we define it by giving it the name max_of_two\n",
    "def max_of_two():\n",
    "  \n",
    "  # we then define our variables that will contain the numbers to be manipulated\n",
    "  first_number  = 10\n",
    "  second_number = 5\n",
    "  \n",
    "  # then we perform our operations i.e. in this case,\n",
    "  # if first_number is greater than second_number etc.\n",
    "  if first_number > second_number:\n",
    "    \n",
    "      # the return keyword allows us to provide back the result/output of our function\n",
    "    return first_number\n",
    "  \n",
    "    # the return key word allows us to provide back the result/output of our function\n",
    "  return second_number\n",
    " \n",
    "# Lastly, we do the most important step; which is to call the function that \n",
    "# we have just created above. Calling allows us to use the function. \n",
    "# We have also been calling our built-in functions from the previous section.\n",
    "#\n",
    "max_of_two()"
   ]
  },
  {
   "cell_type": "markdown",
   "metadata": {
    "id": "47gh_27esFHZ"
   },
   "source": [
    "##### <font color=\"blue\">Example 3"
   ]
  },
  {
   "cell_type": "code",
   "execution_count": 4,
   "metadata": {
    "id": "a8odALGjsGJy"
   },
   "outputs": [
    {
     "name": "stdout",
     "output_type": "stream",
     "text": [
      "4.5\n"
     ]
    }
   ],
   "source": [
    "# Example 3\n",
    "# ---\n",
    "# Let's define our function by creating a \n",
    "# ---\n",
    "#\n",
    "\n",
    "def average_of_two_numbers(x, y): \n",
    "  average_of_two_numbers = (x + y)/2 \n",
    "  return print(average_of_two_numbers)  \n",
    "  \n",
    "average_of_two_numbers(4, 5) "
   ]
  },
  {
   "cell_type": "markdown",
   "metadata": {
    "id": "m1FOyDx-r_C_"
   },
   "source": [
    "#### <font color=\"green\">Challenges</font> "
   ]
  },
  {
   "cell_type": "markdown",
   "metadata": {
    "id": "PgsptduxsKGg"
   },
   "source": [
    "##### <font color=\"green\">Challenge 1</font>"
   ]
  },
  {
   "cell_type": "code",
   "execution_count": null,
   "metadata": {
    "id": "t4PE4y_Vr_1Q"
   },
   "outputs": [],
   "source": [
    "# Challenge 1\n",
    "# ---\n",
    "# Question: Determine the lowest value in the given array\n",
    "# ---\n",
    "#\n",
    "\n",
    "x = [23, 22, 55, 23, 44]\n",
    "\n",
    "OUR CODE GOES HERE"
   ]
  },
  {
   "cell_type": "markdown",
   "metadata": {
    "id": "88bM7tZ2sLI4"
   },
   "source": [
    "##### <font color=\"green\">Challenge 2</font>"
   ]
  },
  {
   "cell_type": "code",
   "execution_count": null,
   "metadata": {
    "id": "W7aQKJ96sL_F"
   },
   "outputs": [],
   "source": [
    "# Challenge 2\n",
    "# ---\n",
    "# Create function that takes in first_name, middle_name, and last_name \n",
    "# as parameters and returns the full name\n",
    "# ---\n",
    "#\n",
    "OUR CODE GOES HERE"
   ]
  },
  {
   "cell_type": "markdown",
   "metadata": {
    "id": "E_kcos-EsMTo"
   },
   "source": [
    "##### <font color=\"green\">Challenge 3</font>"
   ]
  },
  {
   "cell_type": "code",
   "execution_count": null,
   "metadata": {
    "id": "G0RuVWaVsNPD"
   },
   "outputs": [],
   "source": [
    "# Challenge 3\n",
    "# ---\n",
    "# Question: Create a python function that calculates the area of rectangle \n",
    "# when the value of the height and width is passed to the function.\n",
    "# ---\n",
    "# \n",
    "OUR CODE GOES HERE"
   ]
  },
  {
   "cell_type": "markdown",
   "metadata": {
    "id": "jpvE6cqosOFe"
   },
   "source": [
    "##### <font color=\"green\">Challenge 4</font>"
   ]
  },
  {
   "cell_type": "code",
   "execution_count": 2,
   "metadata": {
    "id": "Zx5cUD33sO63"
   },
   "outputs": [
    {
     "ename": "SyntaxError",
     "evalue": "invalid syntax (<ipython-input-2-89be02c9bff0>, line 9)",
     "output_type": "error",
     "traceback": [
      "\u001b[0;36m  File \u001b[0;32m\"<ipython-input-2-89be02c9bff0>\"\u001b[0;36m, line \u001b[0;32m9\u001b[0m\n\u001b[0;31m    OUR CODE GOES HERE\u001b[0m\n\u001b[0m        ^\u001b[0m\n\u001b[0;31mSyntaxError\u001b[0m\u001b[0;31m:\u001b[0m invalid syntax\n"
     ]
    }
   ],
   "source": [
    "# Challenge 4\n",
    "# ---\n",
    "# Question: Uberite, a logistics app has a base fare of Ksh. 400. \n",
    "# The app charges Ksh. 30 for every 100 meters travelled. \n",
    "# Create a python function fare that takes the distance travelled \n",
    "# as a parameter and returns the charge.\n",
    "# ---\n",
    "# \n",
    "OUR CODE GOES HERE "
   ]
  },
  {
   "cell_type": "code",
   "execution_count": 3,
   "metadata": {},
   "outputs": [],
   "source": [
    "# Files scrpting and modules"
   ]
  },
  {
   "cell_type": "code",
   "execution_count": null,
   "metadata": {},
   "outputs": [],
   "source": []
  }
 ],
 "metadata": {
  "colab": {
   "collapsed_sections": [
    "jD-9Sma-ruMm",
    "1KGAN1h-rhUT",
    "6mfDGqy38176",
    "BDggmS7ur3Wg",
    "Am56-sCnr6vi",
    "5enr7YOCsGiO",
    "czwZIoMP8yq2",
    "UVhxQgFF8KI_",
    "vRf4lpd38TE8",
    "dbS8kM4M8Vga",
    "DJeVFrBtw_kA",
    "wp_BS7DmxDcu",
    "aFlF1bDQxHQO",
    "_Czt2xj3xKtQ",
    "apQZLg4WxQaT",
    "5Kk6d63OxVQo",
    "figZW-P0xWHu",
    "QhEXtwvIxZhP",
    "prYpRrXsxbRX",
    "AZaNOe10xhBd",
    "KoqcSYwQxtRK",
    "b93FPbs0xuLv",
    "oPUu3IMexvkM",
    "TsVuSiuK9vLo",
    "AX1eFoHBxioZ",
    "xN0KYDlrxjzF",
    "LWRbnoj5xlT9",
    "qOcy-X35HV_t",
    "HX5OKWTeH3y7",
    "V3vakOO6H9Vh",
    "RMTv6MI1IIT_",
    "HHygJvHMIPgh",
    "EqUWEUsNINyj",
    "ExGMoK-pIb8p",
    "ZfjZLNgMIeYh",
    "GjfFmzfjIfZO",
    "dqhVm_8kN2tl",
    "VtTVm3cvN_lP",
    "qIxhQwTHOIjm",
    "JdKpybEFOJOM",
    "XJoETlR_OKHt",
    "8w3U0HVEOccy",
    "hDZ9eDtmOgLi",
    "SxIaU06sOuYQ",
    "GuR57OHgOBnM",
    "eaq4UrFLONmb",
    "bSurXHq_OOjc",
    "hnyRRASVOPq4",
    "okwTjEZ_PCiN",
    "80kHsk0gQiX5",
    "r6CjXb92QsKs",
    "_We_Aif3Q_n5",
    "sVrIv1ucRAtY",
    "xaLN8jeYRDll",
    "dGKEWiBwTVFM",
    "WnXWTn9WTaJs",
    "96-FMInjQs5S",
    "z9M2LwKAQvN_",
    "fnRxw0qjQ1aZ",
    "HA99lKmhQ68W",
    "z7mA-mghTmOc",
    "qcpLR3a_XPLd",
    "EnaCUxpRXT0J",
    "ZX5LhYDuXV2O",
    "7vliBrC5Xk65",
    "0xG8q15EXnW_",
    "2gYk4uIZYFKf",
    "7vPUGzblYGj1",
    "IhBdAGNeXa9N",
    "kBHUUpINXev4",
    "Xk2YcqtKXgiL",
    "hdEWP1SNnFHp",
    "_TGroESwnRos",
    "TbJ6OFKqnUTy",
    "HxuW_VVCnVgw",
    "8LarnuTTnalz",
    "VSxz3OK9nb4P",
    "_xf8ei3mnc3-",
    "C4tY9xM-n6jP",
    "qxG8RHFnniJT",
    "dQlkT13Gnjid",
    "6Pdl8p-QnmN1",
    "93yfMyQWnovw",
    "6T7Z10zUnquf",
    "l4aSf1SQnsIc",
    "wW6zZPzHpPkw",
    "Tj7-43EzpXKP",
    "9CbPFikcpb65",
    "8TToTfDxpcsC",
    "O0n2jmlupeUe",
    "uBJfTBcDpooj",
    "xVpVBXPkprnS",
    "05xi5W5kpsYM",
    "wtPFkTZCptbR",
    "lY-G45bwqiq8",
    "pZnqvIFlqrcF",
    "iO82jGS5qwik",
    "iU4HK7hrqiMO",
    "UoUvopuiqz1A",
    "_BlOlAaNq4Aj",
    "yDuSe7aAq56q",
    "m4u98nWIq76h",
    "rYrnAuYBryYC",
    "WOi0gv2Dr83t",
    "GgSYzCUYsCWG",
    "-bAG0iH2sDiV",
    "47gh_27esFHZ",
    "m1FOyDx-r_C_",
    "PgsptduxsKGg",
    "88bM7tZ2sLI4",
    "E_kcos-EsMTo",
    "jpvE6cqosOFe"
   ],
   "name": "Practice Notebook: Python for Data Science",
   "provenance": [],
   "toc_visible": true
  },
  "kernelspec": {
   "display_name": "Python 3",
   "language": "python",
   "name": "python3"
  },
  "language_info": {
   "codemirror_mode": {
    "name": "ipython",
    "version": 3
   },
   "file_extension": ".py",
   "mimetype": "text/x-python",
   "name": "python",
   "nbconvert_exporter": "python",
   "pygments_lexer": "ipython3",
   "version": "3.8.5"
  }
 },
 "nbformat": 4,
 "nbformat_minor": 4
}
