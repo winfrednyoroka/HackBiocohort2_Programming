{
 "cells": [
  {
   "cell_type": "code",
   "execution_count": null,
   "metadata": {},
   "outputs": [],
   "source": [
    "#installing modules\n",
    "#pip install numpy\n",
    "#pip install pandas\n",
    "#pip install matplotlib\n",
    "#pip install scipy\n",
    "#pip install scikit-learn"
   ]
  },
  {
   "cell_type": "code",
   "execution_count": 167,
   "metadata": {},
   "outputs": [],
   "source": [
    "# import all modules that you may make use of here\n",
    "%matplotlib inline\n",
    "import pandas as pd\n",
    "import numpy as np\n",
    "import sklearn\n",
    "import scipy\n",
    "import random\n",
    "import matplotlib.pyplot as plt\n",
    "plt.rcParams[\"figure.figsize\"]=[10,8] #setting default figure size\n"
   ]
  },
  {
   "cell_type": "code",
   "execution_count": 5,
   "metadata": {},
   "outputs": [
    {
     "data": {
      "text/plain": [
       "array([0., 0., 0., 0., 0.])"
      ]
     },
     "execution_count": 5,
     "metadata": {},
     "output_type": "execute_result"
    }
   ],
   "source": [
    "#loading the library\n",
    "import numpy as np\n",
    "#populating array\n",
    "zero=np.zeros(5)\n",
    "zero"
   ]
  },
  {
   "cell_type": "code",
   "execution_count": 7,
   "metadata": {},
   "outputs": [
    {
     "data": {
      "text/plain": [
       "array([0., 0., 0., 0., 0., 0., 0., 0., 0., 0.])"
      ]
     },
     "execution_count": 7,
     "metadata": {},
     "output_type": "execute_result"
    }
   ],
   "source": [
    "z=np.zeros(10)\n",
    "z"
   ]
  },
  {
   "cell_type": "code",
   "execution_count": 12,
   "metadata": {},
   "outputs": [
    {
     "data": {
      "text/plain": [
       "(10, 1)"
      ]
     },
     "execution_count": 12,
     "metadata": {},
     "output_type": "execute_result"
    }
   ],
   "source": [
    "z.shape # dimension of the array\n",
    "z.shape=(10,1)\n",
    "z.shape"
   ]
  },
  {
   "cell_type": "code",
   "execution_count": 49,
   "metadata": {},
   "outputs": [
    {
     "data": {
      "text/plain": [
       "numpy.ndarray"
      ]
     },
     "execution_count": 49,
     "metadata": {},
     "output_type": "execute_result"
    }
   ],
   "source": [
    "w=np.ones(4)\n",
    "w\n",
    "type(w)"
   ]
  },
  {
   "cell_type": "code",
   "execution_count": 17,
   "metadata": {},
   "outputs": [
    {
     "data": {
      "text/plain": [
       "numpy.ndarray"
      ]
     },
     "execution_count": 17,
     "metadata": {},
     "output_type": "execute_result"
    }
   ],
   "source": [
    "z=np.linspace(2,3,5) #from 2 to 3 with 5 elements\n",
    "type(z)"
   ]
  },
  {
   "cell_type": "code",
   "execution_count": 19,
   "metadata": {},
   "outputs": [
    {
     "data": {
      "text/plain": [
       "array([ 1,  2,  4,  5,  6,  7, 65, 47])"
      ]
     },
     "execution_count": 19,
     "metadata": {},
     "output_type": "execute_result"
    }
   ],
   "source": [
    "#a list convert to an array\n",
    "a_list=[1,2,4,5,6,7,65,47]\n",
    "list_1=np.array(a_list)\n",
    "list_1"
   ]
  },
  {
   "cell_type": "raw",
   "metadata": {},
   "source": [
    "#getting help on jupyter\n",
    "# Try type the variable name and a dot then press tab\n",
    "z.\n",
    "#laternatively type this here \n",
    "?z"
   ]
  },
  {
   "cell_type": "code",
   "execution_count": 30,
   "metadata": {},
   "outputs": [
    {
     "data": {
      "text/plain": [
       "array([2.  , 2.25, 2.5 , 2.75, 3.  ])"
      ]
     },
     "execution_count": 30,
     "metadata": {},
     "output_type": "execute_result"
    }
   ],
   "source": [
    "#Accessing the data from array or slicing an array\n",
    "z[4] # obtains the first item in the list\n",
    "z[0:5] # obtains the data from the first at index 0 to the one at index 4, excludes 5\n",
    "z[-1] # last item is selected"
   ]
  },
  {
   "cell_type": "code",
   "execution_count": 44,
   "metadata": {},
   "outputs": [
    {
     "data": {
      "text/plain": [
       "array([ 2,  3,  4,  9, 10, 20, 56, 76, 84])"
      ]
     },
     "execution_count": 44,
     "metadata": {},
     "output_type": "execute_result"
    }
   ],
   "source": [
    "# sort an array\n",
    "x=np.array([10,3,4,76,56,84,9,20,2])\n",
    "x.sort() #sorting the array\n",
    "x #display the output on the standard output"
   ]
  },
  {
   "cell_type": "code",
   "execution_count": 59,
   "metadata": {},
   "outputs": [
    {
     "name": "stdout",
     "output_type": "stream",
     "text": [
      "31.329787033357817\n",
      "981.5555555555555\n"
     ]
    }
   ],
   "source": [
    "#claculate summarry stats\n",
    "x.mean()# calculating the mean of the array\n",
    "x.max() # the highest or largest number in the list\n",
    "x.min() # the lowest value in the array\n",
    "print(x.std()) # computing standard devition\n",
    "print(x.var()) # computing the variance"
   ]
  },
  {
   "cell_type": "code",
   "execution_count": 56,
   "metadata": {},
   "outputs": [
    {
     "data": {
      "text/plain": [
       "array([2, 0, 8, 1, 3, 6])"
      ]
     },
     "execution_count": 56,
     "metadata": {},
     "output_type": "execute_result"
    }
   ],
   "source": [
    "#generating random numbers\n",
    "y_random=np.random.randint(10,size=6) # generating random integers\n",
    "y_random"
   ]
  },
  {
   "cell_type": "code",
   "execution_count": 61,
   "metadata": {},
   "outputs": [
    {
     "data": {
      "text/plain": [
       "array([ True,  True,  True,  True, False, False, False, False, False])"
      ]
     },
     "execution_count": 61,
     "metadata": {},
     "output_type": "execute_result"
    }
   ],
   "source": [
    "# test with boolean\n",
    "x<10 # where it is less than 10 it will be True"
   ]
  },
  {
   "cell_type": "code",
   "execution_count": 65,
   "metadata": {},
   "outputs": [
    {
     "data": {
      "text/plain": [
       "array([ 1. ,  1.5,  2. ,  4.5,  5. , 10. , 28. , 38. , 42. ])"
      ]
     },
     "execution_count": 65,
     "metadata": {},
     "output_type": "execute_result"
    }
   ],
   "source": [
    "# other simple mathematics operation\n",
    "x*10 #multiplying each element here with 10\n",
    "x+20 # adds 20 to each element of the array\n",
    "x/2  #dividing each element with 2 in the array"
   ]
  },
  {
   "cell_type": "markdown",
   "metadata": {},
   "source": [
    "# Pandas\n",
    "Deals with two important data types including:\n",
    "1. Series\n",
    "2. Dataframe\n",
    "\n"
   ]
  },
  {
   "cell_type": "code",
   "execution_count": 105,
   "metadata": {},
   "outputs": [],
   "source": [
    "#Series-  more or less  a column of data \n",
    "# they are built on top of numpy arrays and support similar operations"
   ]
  },
  {
   "cell_type": "code",
   "execution_count": null,
   "metadata": {},
   "outputs": [],
   "source": [
    "?pd.Series #Getting help on the Series function"
   ]
  },
  {
   "cell_type": "code",
   "execution_count": 104,
   "metadata": {},
   "outputs": [
    {
     "data": {
      "text/plain": [
       "0    9\n",
       "dtype: int64"
      ]
     },
     "execution_count": 104,
     "metadata": {},
     "output_type": "execute_result"
    }
   ],
   "source": [
    "s=pd.Series([2,3,4])\n",
    "s\n",
    "np.random.seed(10) #this allows to ensure every time i rerun the command i get similar output\n",
    "u_random=pd.Series(np.random.randint(155,size=1))\n",
    "u_random"
   ]
  },
  {
   "cell_type": "code",
   "execution_count": 119,
   "metadata": {},
   "outputs": [
    {
     "data": {
      "text/plain": [
       "3"
      ]
     },
     "execution_count": 119,
     "metadata": {},
     "output_type": "execute_result"
    }
   ],
   "source": [
    "#doing simple maths operations\n",
    "s*10\n",
    "s+200\n"
   ]
  },
  {
   "cell_type": "code",
   "execution_count": 108,
   "metadata": {},
   "outputs": [
    {
     "data": {
      "text/plain": [
       "0    2\n",
       "1    3\n",
       "2    4\n",
       "dtype: int64"
      ]
     },
     "execution_count": 108,
     "metadata": {},
     "output_type": "execute_result"
    }
   ],
   "source": [
    "# absolute values\n",
    "np.abs(s)# it transforms the indidual elements in the series to absolute values "
   ]
  },
  {
   "cell_type": "code",
   "execution_count": null,
   "metadata": {},
   "outputs": [],
   "source": [
    "#series are more powerful than arrays\n",
    "'''They have additional statstical oriented methods'''\n",
    "s.describe()# computes all the summarry statistics of the associated data"
   ]
  },
  {
   "cell_type": "code",
   "execution_count": 116,
   "metadata": {},
   "outputs": [
    {
     "data": {
      "text/plain": [
       "2"
      ]
     },
     "execution_count": 116,
     "metadata": {},
     "output_type": "execute_result"
    }
   ],
   "source": [
    "#indexing # behaves like a dictionary\n",
    "s.index=[\"John\",\"Shan\",\"Yinka\"]\n",
    "s.John\n"
   ]
  },
  {
   "cell_type": "code",
   "execution_count": 120,
   "metadata": {},
   "outputs": [
    {
     "data": {
      "text/plain": [
       "True"
      ]
     },
     "execution_count": 120,
     "metadata": {},
     "output_type": "execute_result"
    }
   ],
   "source": [
    "\"Yinka\" in s # presence or absence of some data"
   ]
  },
  {
   "cell_type": "code",
   "execution_count": 121,
   "metadata": {},
   "outputs": [
    {
     "data": {
      "text/plain": [
       "False"
      ]
     },
     "execution_count": 121,
     "metadata": {},
     "output_type": "execute_result"
    }
   ],
   "source": [
    "\"winfred\" in s"
   ]
  },
  {
   "cell_type": "markdown",
   "metadata": {},
   "source": [
    "# Dataframes"
   ]
  },
  {
   "cell_type": "code",
   "execution_count": 122,
   "metadata": {},
   "outputs": [],
   "source": [
    "#Dataframe stores related columns of data\n",
    "# dealing with several columns"
   ]
  },
  {
   "cell_type": "code",
   "execution_count": 124,
   "metadata": {},
   "outputs": [
    {
     "data": {
      "text/html": [
       "<div>\n",
       "<style scoped>\n",
       "    .dataframe tbody tr th:only-of-type {\n",
       "        vertical-align: middle;\n",
       "    }\n",
       "\n",
       "    .dataframe tbody tr th {\n",
       "        vertical-align: top;\n",
       "    }\n",
       "\n",
       "    .dataframe thead th {\n",
       "        text-align: right;\n",
       "    }\n",
       "</style>\n",
       "<table border=\"1\" class=\"dataframe\">\n",
       "  <thead>\n",
       "    <tr style=\"text-align: right;\">\n",
       "      <th></th>\n",
       "      <th>samples</th>\n",
       "      <th>age</th>\n",
       "      <th>sex group name</th>\n",
       "    </tr>\n",
       "  </thead>\n",
       "  <tbody>\n",
       "    <tr>\n",
       "      <th>0</th>\n",
       "      <td>cd1</td>\n",
       "      <td>23</td>\n",
       "      <td>male two gt</td>\n",
       "    </tr>\n",
       "    <tr>\n",
       "      <th>1</th>\n",
       "      <td>cd2</td>\n",
       "      <td>45</td>\n",
       "      <td>female one tg</td>\n",
       "    </tr>\n",
       "    <tr>\n",
       "      <th>2</th>\n",
       "      <td>cd4</td>\n",
       "      <td>10</td>\n",
       "      <td>male two nh</td>\n",
       "    </tr>\n",
       "    <tr>\n",
       "      <th>3</th>\n",
       "      <td>cd5</td>\n",
       "      <td>67</td>\n",
       "      <td>female one gt</td>\n",
       "    </tr>\n",
       "    <tr>\n",
       "      <th>4</th>\n",
       "      <td>cd6</td>\n",
       "      <td>11</td>\n",
       "      <td>female one rg</td>\n",
       "    </tr>\n",
       "    <tr>\n",
       "      <th>5</th>\n",
       "      <td>cd7</td>\n",
       "      <td>12</td>\n",
       "      <td>male two wg</td>\n",
       "    </tr>\n",
       "    <tr>\n",
       "      <th>6</th>\n",
       "      <td>cd7</td>\n",
       "      <td>45</td>\n",
       "      <td>female one nt</td>\n",
       "    </tr>\n",
       "  </tbody>\n",
       "</table>\n",
       "</div>"
      ],
      "text/plain": [
       "  samples  age sex group name\n",
       "0     cd1   23    male two gt\n",
       "1     cd2   45  female one tg\n",
       "2     cd4   10    male two nh\n",
       "3     cd5   67  female one gt\n",
       "4     cd6   11  female one rg\n",
       "5     cd7   12    male two wg\n",
       "6     cd7   45  female one nt"
      ]
     },
     "execution_count": 124,
     "metadata": {},
     "output_type": "execute_result"
    }
   ],
   "source": [
    "#Reading in data from csv files\n",
    "data1=pd.read_csv(\"/Users/wgatua/Documents/Ruth.csv\")\n",
    "data1"
   ]
  },
  {
   "cell_type": "code",
   "execution_count": 126,
   "metadata": {},
   "outputs": [
    {
     "data": {
      "text/html": [
       "<div>\n",
       "<style scoped>\n",
       "    .dataframe tbody tr th:only-of-type {\n",
       "        vertical-align: middle;\n",
       "    }\n",
       "\n",
       "    .dataframe tbody tr th {\n",
       "        vertical-align: top;\n",
       "    }\n",
       "\n",
       "    .dataframe thead th {\n",
       "        text-align: right;\n",
       "    }\n",
       "</style>\n",
       "<table border=\"1\" class=\"dataframe\">\n",
       "  <thead>\n",
       "    <tr style=\"text-align: right;\">\n",
       "      <th></th>\n",
       "      <th>samples</th>\n",
       "      <th>age</th>\n",
       "      <th>sex group name</th>\n",
       "    </tr>\n",
       "  </thead>\n",
       "  <tbody>\n",
       "    <tr>\n",
       "      <th>3</th>\n",
       "      <td>cd5</td>\n",
       "      <td>67</td>\n",
       "      <td>female one gt</td>\n",
       "    </tr>\n",
       "    <tr>\n",
       "      <th>4</th>\n",
       "      <td>cd6</td>\n",
       "      <td>11</td>\n",
       "      <td>female one rg</td>\n",
       "    </tr>\n",
       "    <tr>\n",
       "      <th>5</th>\n",
       "      <td>cd7</td>\n",
       "      <td>12</td>\n",
       "      <td>male two wg</td>\n",
       "    </tr>\n",
       "  </tbody>\n",
       "</table>\n",
       "</div>"
      ],
      "text/plain": [
       "  samples  age sex group name\n",
       "3     cd5   67  female one gt\n",
       "4     cd6   11  female one rg\n",
       "5     cd7   12    male two wg"
      ]
     },
     "execution_count": 126,
     "metadata": {},
     "output_type": "execute_result"
    }
   ],
   "source": [
    "#slicing data\n",
    "data1[3:6] #the sixth data point is excluded"
   ]
  },
  {
   "cell_type": "code",
   "execution_count": 128,
   "metadata": {},
   "outputs": [
    {
     "data": {
      "text/html": [
       "<div>\n",
       "<style scoped>\n",
       "    .dataframe tbody tr th:only-of-type {\n",
       "        vertical-align: middle;\n",
       "    }\n",
       "\n",
       "    .dataframe tbody tr th {\n",
       "        vertical-align: top;\n",
       "    }\n",
       "\n",
       "    .dataframe thead th {\n",
       "        text-align: right;\n",
       "    }\n",
       "</style>\n",
       "<table border=\"1\" class=\"dataframe\">\n",
       "  <thead>\n",
       "    <tr style=\"text-align: right;\">\n",
       "      <th></th>\n",
       "      <th>samples</th>\n",
       "      <th>age</th>\n",
       "    </tr>\n",
       "  </thead>\n",
       "  <tbody>\n",
       "    <tr>\n",
       "      <th>2</th>\n",
       "      <td>cd4</td>\n",
       "      <td>10</td>\n",
       "    </tr>\n",
       "  </tbody>\n",
       "</table>\n",
       "</div>"
      ],
      "text/plain": [
       "  samples  age\n",
       "2     cd4   10"
      ]
     },
     "execution_count": 128,
     "metadata": {},
     "output_type": "execute_result"
    }
   ],
   "source": [
    "'''select specific columns, by passing a list containing the names \n",
    "of the desired columns as strings'''\n",
    "data1[['samples','age']]"
   ]
  },
  {
   "cell_type": "code",
   "execution_count": 130,
   "metadata": {},
   "outputs": [
    {
     "data": {
      "text/html": [
       "<div>\n",
       "<style scoped>\n",
       "    .dataframe tbody tr th:only-of-type {\n",
       "        vertical-align: middle;\n",
       "    }\n",
       "\n",
       "    .dataframe tbody tr th {\n",
       "        vertical-align: top;\n",
       "    }\n",
       "\n",
       "    .dataframe thead th {\n",
       "        text-align: right;\n",
       "    }\n",
       "</style>\n",
       "<table border=\"1\" class=\"dataframe\">\n",
       "  <thead>\n",
       "    <tr style=\"text-align: right;\">\n",
       "      <th></th>\n",
       "      <th>samples</th>\n",
       "      <th>age</th>\n",
       "    </tr>\n",
       "  </thead>\n",
       "  <tbody>\n",
       "    <tr>\n",
       "      <th>2</th>\n",
       "      <td>cd4</td>\n",
       "      <td>10</td>\n",
       "    </tr>\n",
       "    <tr>\n",
       "      <th>3</th>\n",
       "      <td>cd5</td>\n",
       "      <td>67</td>\n",
       "    </tr>\n",
       "    <tr>\n",
       "      <th>4</th>\n",
       "      <td>cd6</td>\n",
       "      <td>11</td>\n",
       "    </tr>\n",
       "    <tr>\n",
       "      <th>5</th>\n",
       "      <td>cd7</td>\n",
       "      <td>12</td>\n",
       "    </tr>\n",
       "  </tbody>\n",
       "</table>\n",
       "</div>"
      ],
      "text/plain": [
       "  samples  age\n",
       "2     cd4   10\n",
       "3     cd5   67\n",
       "4     cd6   11\n",
       "5     cd7   12"
      ]
     },
     "execution_count": 130,
     "metadata": {},
     "output_type": "execute_result"
    }
   ],
   "source": [
    "'''You can slice at two levels, column level\n",
    "and also by specifying particular rows'''\n",
    "data1[['samples','age']][2:6]"
   ]
  },
  {
   "cell_type": "code",
   "execution_count": 139,
   "metadata": {},
   "outputs": [
    {
     "data": {
      "text/html": [
       "<div>\n",
       "<style scoped>\n",
       "    .dataframe tbody tr th:only-of-type {\n",
       "        vertical-align: middle;\n",
       "    }\n",
       "\n",
       "    .dataframe tbody tr th {\n",
       "        vertical-align: top;\n",
       "    }\n",
       "\n",
       "    .dataframe thead th {\n",
       "        text-align: right;\n",
       "    }\n",
       "</style>\n",
       "<table border=\"1\" class=\"dataframe\">\n",
       "  <thead>\n",
       "    <tr style=\"text-align: right;\">\n",
       "      <th></th>\n",
       "      <th>age</th>\n",
       "      <th>sex group name</th>\n",
       "    </tr>\n",
       "  </thead>\n",
       "  <tbody>\n",
       "    <tr>\n",
       "      <th>1</th>\n",
       "      <td>45</td>\n",
       "      <td>female one tg</td>\n",
       "    </tr>\n",
       "    <tr>\n",
       "      <th>2</th>\n",
       "      <td>10</td>\n",
       "      <td>male two nh</td>\n",
       "    </tr>\n",
       "  </tbody>\n",
       "</table>\n",
       "</div>"
      ],
      "text/plain": [
       "   age sex group name\n",
       "1   45  female one tg\n",
       "2   10    male two nh"
      ]
     },
     "execution_count": 139,
     "metadata": {},
     "output_type": "execute_result"
    }
   ],
   "source": [
    "'''Selecting both rows and columns using integers, the iloc attribute \n",
    "should be used with the format'''\n",
    "#.iloc[rows,columns]\n",
    "#?data1.iloc #getting help when stuck\n",
    "data1.iloc[:,0:3] #all rows,columns at index 0 to 2, 3 is excluded\n",
    "data1.iloc[1:3,1:3]# rows at index 1 &2, columns at index 1&2"
   ]
  },
  {
   "cell_type": "code",
   "execution_count": 144,
   "metadata": {},
   "outputs": [
    {
     "data": {
      "text/html": [
       "<div>\n",
       "<style scoped>\n",
       "    .dataframe tbody tr th:only-of-type {\n",
       "        vertical-align: middle;\n",
       "    }\n",
       "\n",
       "    .dataframe tbody tr th {\n",
       "        vertical-align: top;\n",
       "    }\n",
       "\n",
       "    .dataframe thead th {\n",
       "        text-align: right;\n",
       "    }\n",
       "</style>\n",
       "<table border=\"1\" class=\"dataframe\">\n",
       "  <thead>\n",
       "    <tr style=\"text-align: right;\">\n",
       "      <th></th>\n",
       "      <th>samples</th>\n",
       "      <th>sex group name</th>\n",
       "    </tr>\n",
       "  </thead>\n",
       "  <tbody>\n",
       "    <tr>\n",
       "      <th>1</th>\n",
       "      <td>cd2</td>\n",
       "      <td>female one tg</td>\n",
       "    </tr>\n",
       "    <tr>\n",
       "      <th>2</th>\n",
       "      <td>cd4</td>\n",
       "      <td>male two nh</td>\n",
       "    </tr>\n",
       "  </tbody>\n",
       "</table>\n",
       "</div>"
      ],
      "text/plain": [
       "  samples sex group name\n",
       "1     cd2  female one tg\n",
       "2     cd4    male two nh"
      ]
     },
     "execution_count": 144,
     "metadata": {},
     "output_type": "execute_result"
    }
   ],
   "source": [
    "#select rows and columns with a mix of integers and labels\n",
    "# we use the attribute loc\n",
    "data1.loc[data1.index[1:3],['samples','sex group name']]"
   ]
  },
  {
   "cell_type": "code",
   "execution_count": 147,
   "metadata": {},
   "outputs": [],
   "source": [
    "'''Instead of using numbers as indexes for\n",
    "rows we can set anything of our interest'''\n",
    "data2=data1.set_index('samples')"
   ]
  },
  {
   "cell_type": "code",
   "execution_count": 152,
   "metadata": {},
   "outputs": [
    {
     "data": {
      "text/html": [
       "<div>\n",
       "<style scoped>\n",
       "    .dataframe tbody tr th:only-of-type {\n",
       "        vertical-align: middle;\n",
       "    }\n",
       "\n",
       "    .dataframe tbody tr th {\n",
       "        vertical-align: top;\n",
       "    }\n",
       "\n",
       "    .dataframe thead th {\n",
       "        text-align: right;\n",
       "    }\n",
       "</style>\n",
       "<table border=\"1\" class=\"dataframe\">\n",
       "  <thead>\n",
       "    <tr style=\"text-align: right;\">\n",
       "      <th></th>\n",
       "      <th>Age</th>\n",
       "      <th>Sex Group Name</th>\n",
       "    </tr>\n",
       "    <tr>\n",
       "      <th>samples</th>\n",
       "      <th></th>\n",
       "      <th></th>\n",
       "    </tr>\n",
       "  </thead>\n",
       "  <tbody>\n",
       "    <tr>\n",
       "      <th>cd1</th>\n",
       "      <td>23</td>\n",
       "      <td>male two gt</td>\n",
       "    </tr>\n",
       "    <tr>\n",
       "      <th>cd2</th>\n",
       "      <td>45</td>\n",
       "      <td>female one tg</td>\n",
       "    </tr>\n",
       "    <tr>\n",
       "      <th>cd4</th>\n",
       "      <td>10</td>\n",
       "      <td>male two nh</td>\n",
       "    </tr>\n",
       "    <tr>\n",
       "      <th>cd5</th>\n",
       "      <td>67</td>\n",
       "      <td>female one gt</td>\n",
       "    </tr>\n",
       "    <tr>\n",
       "      <th>cd6</th>\n",
       "      <td>11</td>\n",
       "      <td>female one rg</td>\n",
       "    </tr>\n",
       "    <tr>\n",
       "      <th>cd7</th>\n",
       "      <td>12</td>\n",
       "      <td>male two wg</td>\n",
       "    </tr>\n",
       "    <tr>\n",
       "      <th>cd7</th>\n",
       "      <td>45</td>\n",
       "      <td>female one nt</td>\n",
       "    </tr>\n",
       "  </tbody>\n",
       "</table>\n",
       "</div>"
      ],
      "text/plain": [
       "         Age Sex Group Name\n",
       "samples                    \n",
       "cd1       23    male two gt\n",
       "cd2       45  female one tg\n",
       "cd4       10    male two nh\n",
       "cd5       67  female one gt\n",
       "cd6       11  female one rg\n",
       "cd7       12    male two wg\n",
       "cd7       45  female one nt"
      ]
     },
     "execution_count": 152,
     "metadata": {},
     "output_type": "execute_result"
    }
   ],
   "source": [
    "data2\n",
    "#Giving columns a better name\n",
    "data2.columns=\"Age\",\"Sex Group Name\"\n",
    "data2"
   ]
  },
  {
   "cell_type": "code",
   "execution_count": 163,
   "metadata": {},
   "outputs": [
    {
     "data": {
      "image/png": "[encoded data removed]",
      "text/plain": [
       "<Figure size 720x576 with 1 Axes>"
      ]
     },
     "metadata": {},
     "output_type": "display_data"
    }
   ],
   "source": [
    "# Constructing bar or pie plots for the age\n",
    "plt1=data2['Age'].plot(kind='pie')"
   ]
  },
  {
   "cell_type": "code",
   "execution_count": 164,
   "metadata": {},
   "outputs": [
    {
     "data": {
      "text/plain": [
       "Text(0, 0.5, 'Age of Participants')"
      ]
     },
     "execution_count": 164,
     "metadata": {},
     "output_type": "execute_result"
    },
    {
     "data": {
      "image/png": "[encoded data removed]",
      "text/plain": [
       "<Figure size 720x576 with 1 Axes>"
      ]
     },
     "metadata": {
      "needs_background": "light"
     },
     "output_type": "display_data"
    }
   ],
   "source": [
    "# constructing a bar plot\n",
    "plt2=data2[\"Age\"].plot(kind='bar') # a simple bar plot\n",
    "plt2.set_xlabel('Sample_IDs', fontsize=14) # labelling the x_axis\n",
    "plt2.set_ylabel('Age of Participants', fontsize=14) # labelling the y_axis"
   ]
  },
  {
   "cell_type": "code",
   "execution_count": 159,
   "metadata": {},
   "outputs": [
    {
     "data": {
      "text/html": [
       "<div>\n",
       "<style scoped>\n",
       "    .dataframe tbody tr th:only-of-type {\n",
       "        vertical-align: middle;\n",
       "    }\n",
       "\n",
       "    .dataframe tbody tr th {\n",
       "        vertical-align: top;\n",
       "    }\n",
       "\n",
       "    .dataframe thead th {\n",
       "        text-align: right;\n",
       "    }\n",
       "</style>\n",
       "<table border=\"1\" class=\"dataframe\">\n",
       "  <thead>\n",
       "    <tr style=\"text-align: right;\">\n",
       "      <th></th>\n",
       "      <th>Age</th>\n",
       "      <th>Sex Group Name</th>\n",
       "    </tr>\n",
       "    <tr>\n",
       "      <th>samples</th>\n",
       "      <th></th>\n",
       "      <th></th>\n",
       "    </tr>\n",
       "  </thead>\n",
       "  <tbody>\n",
       "    <tr>\n",
       "      <th>cd5</th>\n",
       "      <td>67</td>\n",
       "      <td>female one gt</td>\n",
       "    </tr>\n",
       "    <tr>\n",
       "      <th>cd2</th>\n",
       "      <td>45</td>\n",
       "      <td>female one tg</td>\n",
       "    </tr>\n",
       "    <tr>\n",
       "      <th>cd7</th>\n",
       "      <td>45</td>\n",
       "      <td>female one nt</td>\n",
       "    </tr>\n",
       "    <tr>\n",
       "      <th>cd1</th>\n",
       "      <td>23</td>\n",
       "      <td>male two gt</td>\n",
       "    </tr>\n",
       "    <tr>\n",
       "      <th>cd7</th>\n",
       "      <td>12</td>\n",
       "      <td>male two wg</td>\n",
       "    </tr>\n",
       "    <tr>\n",
       "      <th>cd6</th>\n",
       "      <td>11</td>\n",
       "      <td>female one rg</td>\n",
       "    </tr>\n",
       "    <tr>\n",
       "      <th>cd4</th>\n",
       "      <td>10</td>\n",
       "      <td>male two nh</td>\n",
       "    </tr>\n",
       "  </tbody>\n",
       "</table>\n",
       "</div>"
      ],
      "text/plain": [
       "         Age Sex Group Name\n",
       "samples                    \n",
       "cd5       67  female one gt\n",
       "cd2       45  female one tg\n",
       "cd7       45  female one nt\n",
       "cd1       23    male two gt\n",
       "cd7       12    male two wg\n",
       "cd6       11  female one rg\n",
       "cd4       10    male two nh"
      ]
     },
     "execution_count": 159,
     "metadata": {},
     "output_type": "execute_result"
    }
   ],
   "source": [
    "#sorting the data either desceding or asceding order by a given column(e.g age)\n",
    "data2.sort_values(by='Age',ascending =False)"
   ]
  },
  {
   "cell_type": "code",
   "execution_count": 161,
   "metadata": {},
   "outputs": [
    {
     "data": {
      "text/html": [
       "<div>\n",
       "<style scoped>\n",
       "    .dataframe tbody tr th:only-of-type {\n",
       "        vertical-align: middle;\n",
       "    }\n",
       "\n",
       "    .dataframe tbody tr th {\n",
       "        vertical-align: top;\n",
       "    }\n",
       "\n",
       "    .dataframe thead th {\n",
       "        text-align: right;\n",
       "    }\n",
       "</style>\n",
       "<table border=\"1\" class=\"dataframe\">\n",
       "  <thead>\n",
       "    <tr style=\"text-align: right;\">\n",
       "      <th></th>\n",
       "      <th>Age</th>\n",
       "      <th>Sex Group Name</th>\n",
       "    </tr>\n",
       "    <tr>\n",
       "      <th>samples</th>\n",
       "      <th></th>\n",
       "      <th></th>\n",
       "    </tr>\n",
       "  </thead>\n",
       "  <tbody>\n",
       "    <tr>\n",
       "      <th>cd7</th>\n",
       "      <td>12</td>\n",
       "      <td>male two wg</td>\n",
       "    </tr>\n",
       "    <tr>\n",
       "      <th>cd7</th>\n",
       "      <td>45</td>\n",
       "      <td>female one nt</td>\n",
       "    </tr>\n",
       "    <tr>\n",
       "      <th>cd6</th>\n",
       "      <td>11</td>\n",
       "      <td>female one rg</td>\n",
       "    </tr>\n",
       "    <tr>\n",
       "      <th>cd5</th>\n",
       "      <td>67</td>\n",
       "      <td>female one gt</td>\n",
       "    </tr>\n",
       "    <tr>\n",
       "      <th>cd4</th>\n",
       "      <td>10</td>\n",
       "      <td>male two nh</td>\n",
       "    </tr>\n",
       "    <tr>\n",
       "      <th>cd2</th>\n",
       "      <td>45</td>\n",
       "      <td>female one tg</td>\n",
       "    </tr>\n",
       "    <tr>\n",
       "      <th>cd1</th>\n",
       "      <td>23</td>\n",
       "      <td>male two gt</td>\n",
       "    </tr>\n",
       "  </tbody>\n",
       "</table>\n",
       "</div>"
      ],
      "text/plain": [
       "         Age Sex Group Name\n",
       "samples                    \n",
       "cd7       12    male two wg\n",
       "cd7       45  female one nt\n",
       "cd6       11  female one rg\n",
       "cd5       67  female one gt\n",
       "cd4       10    male two nh\n",
       "cd2       45  female one tg\n",
       "cd1       23    male two gt"
      ]
     },
     "execution_count": 161,
     "metadata": {},
     "output_type": "execute_result"
    }
   ],
   "source": [
    "#sorting the data based on index only\n",
    "data2.sort_index(ascending=False)"
   ]
  },
  {
   "cell_type": "code",
   "execution_count": null,
   "metadata": {},
   "outputs": [],
   "source": []
  },
  {
   "cell_type": "raw",
   "metadata": {},
   "source": [
    "from sklearn.impute import SimpleImputer\n",
    "from sklearn.pipeline import Pipeline\n",
    "from sklearn.preprocessing import StandardScaler\n",
    "num_pipeline*Pipeline([('Imputer',SimpleImputer(strategy=\"median\")),\n",
    "                      ('std_scaler',StandardScaler()),])\n",
    "spot_prepared*num_pipeline.fit_transform(spot_train_copy)\n",
    "?pd.DataFrame(spot_prepared)"
   ]
  },
  {
   "cell_type": "code",
   "execution_count": null,
   "metadata": {},
   "outputs": [],
   "source": [
    "#slect a model and train it\n",
    "from sklearn import linear_model\n",
    "from sklearn.ensemble import RandomForestRegressor\n",
    "from sklearn.tree import DecisionTreeRegressor\n",
    "from sklearn.svm  import SVR\n",
    "reg=RandomForestRegressor(max_features=3,n_estimators=150)\n",
    "reg.fit(spt_prepared,spot_labels)"
   ]
  }
 ],
 "metadata": {
  "kernelspec": {
   "display_name": "Python 3",
   "language": "python",
   "name": "python3"
  },
  "language_info": {
   "codemirror_mode": {
    "name": "ipython",
    "version": 3
   },
   "file_extension": ".py",
   "mimetype": "text/x-python",
   "name": "python",
   "nbconvert_exporter": "python",
   "pygments_lexer": "ipython3",
   "version": "3.8.5"
  }
 },
 "nbformat": 4,
 "nbformat_minor": 4
}
